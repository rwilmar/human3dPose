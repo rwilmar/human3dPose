{
 "cells": [
  {
   "cell_type": "code",
   "execution_count": 1,
   "metadata": {},
   "outputs": [
    {
     "data": {
      "text/html": [
       "\n",
       "    <div class=\"bk-root\">\n",
       "        <a href=\"https://bokeh.org\" target=\"_blank\" class=\"bk-logo bk-logo-small bk-logo-notebook\"></a>\n",
       "        <span id=\"1001\">Loading BokehJS ...</span>\n",
       "    </div>"
      ]
     },
     "metadata": {},
     "output_type": "display_data"
    },
    {
     "data": {
      "application/javascript": [
       "\n",
       "(function(root) {\n",
       "  function now() {\n",
       "    return new Date();\n",
       "  }\n",
       "\n",
       "  var force = true;\n",
       "\n",
       "  if (typeof root._bokeh_onload_callbacks === \"undefined\" || force === true) {\n",
       "    root._bokeh_onload_callbacks = [];\n",
       "    root._bokeh_is_loading = undefined;\n",
       "  }\n",
       "\n",
       "  var JS_MIME_TYPE = 'application/javascript';\n",
       "  var HTML_MIME_TYPE = 'text/html';\n",
       "  var EXEC_MIME_TYPE = 'application/vnd.bokehjs_exec.v0+json';\n",
       "  var CLASS_NAME = 'output_bokeh rendered_html';\n",
       "\n",
       "  /**\n",
       "   * Render data to the DOM node\n",
       "   */\n",
       "  function render(props, node) {\n",
       "    var script = document.createElement(\"script\");\n",
       "    node.appendChild(script);\n",
       "  }\n",
       "\n",
       "  /**\n",
       "   * Handle when an output is cleared or removed\n",
       "   */\n",
       "  function handleClearOutput(event, handle) {\n",
       "    var cell = handle.cell;\n",
       "\n",
       "    var id = cell.output_area._bokeh_element_id;\n",
       "    var server_id = cell.output_area._bokeh_server_id;\n",
       "    // Clean up Bokeh references\n",
       "    if (id != null && id in Bokeh.index) {\n",
       "      Bokeh.index[id].model.document.clear();\n",
       "      delete Bokeh.index[id];\n",
       "    }\n",
       "\n",
       "    if (server_id !== undefined) {\n",
       "      // Clean up Bokeh references\n",
       "      var cmd = \"from bokeh.io.state import curstate; print(curstate().uuid_to_server['\" + server_id + \"'].get_sessions()[0].document.roots[0]._id)\";\n",
       "      cell.notebook.kernel.execute(cmd, {\n",
       "        iopub: {\n",
       "          output: function(msg) {\n",
       "            var id = msg.content.text.trim();\n",
       "            if (id in Bokeh.index) {\n",
       "              Bokeh.index[id].model.document.clear();\n",
       "              delete Bokeh.index[id];\n",
       "            }\n",
       "          }\n",
       "        }\n",
       "      });\n",
       "      // Destroy server and session\n",
       "      var cmd = \"import bokeh.io.notebook as ion; ion.destroy_server('\" + server_id + \"')\";\n",
       "      cell.notebook.kernel.execute(cmd);\n",
       "    }\n",
       "  }\n",
       "\n",
       "  /**\n",
       "   * Handle when a new output is added\n",
       "   */\n",
       "  function handleAddOutput(event, handle) {\n",
       "    var output_area = handle.output_area;\n",
       "    var output = handle.output;\n",
       "\n",
       "    // limit handleAddOutput to display_data with EXEC_MIME_TYPE content only\n",
       "    if ((output.output_type != \"display_data\") || (!output.data.hasOwnProperty(EXEC_MIME_TYPE))) {\n",
       "      return\n",
       "    }\n",
       "\n",
       "    var toinsert = output_area.element.find(\".\" + CLASS_NAME.split(' ')[0]);\n",
       "\n",
       "    if (output.metadata[EXEC_MIME_TYPE][\"id\"] !== undefined) {\n",
       "      toinsert[toinsert.length - 1].firstChild.textContent = output.data[JS_MIME_TYPE];\n",
       "      // store reference to embed id on output_area\n",
       "      output_area._bokeh_element_id = output.metadata[EXEC_MIME_TYPE][\"id\"];\n",
       "    }\n",
       "    if (output.metadata[EXEC_MIME_TYPE][\"server_id\"] !== undefined) {\n",
       "      var bk_div = document.createElement(\"div\");\n",
       "      bk_div.innerHTML = output.data[HTML_MIME_TYPE];\n",
       "      var script_attrs = bk_div.children[0].attributes;\n",
       "      for (var i = 0; i < script_attrs.length; i++) {\n",
       "        toinsert[toinsert.length - 1].firstChild.setAttribute(script_attrs[i].name, script_attrs[i].value);\n",
       "        toinsert[toinsert.length - 1].firstChild.textContent = bk_div.children[0].textContent\n",
       "      }\n",
       "      // store reference to server id on output_area\n",
       "      output_area._bokeh_server_id = output.metadata[EXEC_MIME_TYPE][\"server_id\"];\n",
       "    }\n",
       "  }\n",
       "\n",
       "  function register_renderer(events, OutputArea) {\n",
       "\n",
       "    function append_mime(data, metadata, element) {\n",
       "      // create a DOM node to render to\n",
       "      var toinsert = this.create_output_subarea(\n",
       "        metadata,\n",
       "        CLASS_NAME,\n",
       "        EXEC_MIME_TYPE\n",
       "      );\n",
       "      this.keyboard_manager.register_events(toinsert);\n",
       "      // Render to node\n",
       "      var props = {data: data, metadata: metadata[EXEC_MIME_TYPE]};\n",
       "      render(props, toinsert[toinsert.length - 1]);\n",
       "      element.append(toinsert);\n",
       "      return toinsert\n",
       "    }\n",
       "\n",
       "    /* Handle when an output is cleared or removed */\n",
       "    events.on('clear_output.CodeCell', handleClearOutput);\n",
       "    events.on('delete.Cell', handleClearOutput);\n",
       "\n",
       "    /* Handle when a new output is added */\n",
       "    events.on('output_added.OutputArea', handleAddOutput);\n",
       "\n",
       "    /**\n",
       "     * Register the mime type and append_mime function with output_area\n",
       "     */\n",
       "    OutputArea.prototype.register_mime_type(EXEC_MIME_TYPE, append_mime, {\n",
       "      /* Is output safe? */\n",
       "      safe: true,\n",
       "      /* Index of renderer in `output_area.display_order` */\n",
       "      index: 0\n",
       "    });\n",
       "  }\n",
       "\n",
       "  // register the mime type if in Jupyter Notebook environment and previously unregistered\n",
       "  if (root.Jupyter !== undefined) {\n",
       "    var events = require('base/js/events');\n",
       "    var OutputArea = require('notebook/js/outputarea').OutputArea;\n",
       "\n",
       "    if (OutputArea.prototype.mime_types().indexOf(EXEC_MIME_TYPE) == -1) {\n",
       "      register_renderer(events, OutputArea);\n",
       "    }\n",
       "  }\n",
       "\n",
       "  \n",
       "  if (typeof (root._bokeh_timeout) === \"undefined\" || force === true) {\n",
       "    root._bokeh_timeout = Date.now() + 5000;\n",
       "    root._bokeh_failed_load = false;\n",
       "  }\n",
       "\n",
       "  var NB_LOAD_WARNING = {'data': {'text/html':\n",
       "     \"<div style='background-color: #fdd'>\\n\"+\n",
       "     \"<p>\\n\"+\n",
       "     \"BokehJS does not appear to have successfully loaded. If loading BokehJS from CDN, this \\n\"+\n",
       "     \"may be due to a slow or bad network connection. Possible fixes:\\n\"+\n",
       "     \"</p>\\n\"+\n",
       "     \"<ul>\\n\"+\n",
       "     \"<li>re-rerun `output_notebook()` to attempt to load from CDN again, or</li>\\n\"+\n",
       "     \"<li>use INLINE resources instead, as so:</li>\\n\"+\n",
       "     \"</ul>\\n\"+\n",
       "     \"<code>\\n\"+\n",
       "     \"from bokeh.resources import INLINE\\n\"+\n",
       "     \"output_notebook(resources=INLINE)\\n\"+\n",
       "     \"</code>\\n\"+\n",
       "     \"</div>\"}};\n",
       "\n",
       "  function display_loaded() {\n",
       "    var el = document.getElementById(\"1001\");\n",
       "    if (el != null) {\n",
       "      el.textContent = \"BokehJS is loading...\";\n",
       "    }\n",
       "    if (root.Bokeh !== undefined) {\n",
       "      if (el != null) {\n",
       "        el.textContent = \"BokehJS \" + root.Bokeh.version + \" successfully loaded.\";\n",
       "      }\n",
       "    } else if (Date.now() < root._bokeh_timeout) {\n",
       "      setTimeout(display_loaded, 100)\n",
       "    }\n",
       "  }\n",
       "\n",
       "\n",
       "  function run_callbacks() {\n",
       "    try {\n",
       "      root._bokeh_onload_callbacks.forEach(function(callback) {\n",
       "        if (callback != null)\n",
       "          callback();\n",
       "      });\n",
       "    } finally {\n",
       "      delete root._bokeh_onload_callbacks\n",
       "    }\n",
       "    console.debug(\"Bokeh: all callbacks have finished\");\n",
       "  }\n",
       "\n",
       "  function load_libs(css_urls, js_urls, callback) {\n",
       "    if (css_urls == null) css_urls = [];\n",
       "    if (js_urls == null) js_urls = [];\n",
       "\n",
       "    root._bokeh_onload_callbacks.push(callback);\n",
       "    if (root._bokeh_is_loading > 0) {\n",
       "      console.debug(\"Bokeh: BokehJS is being loaded, scheduling callback at\", now());\n",
       "      return null;\n",
       "    }\n",
       "    if (js_urls == null || js_urls.length === 0) {\n",
       "      run_callbacks();\n",
       "      return null;\n",
       "    }\n",
       "    console.debug(\"Bokeh: BokehJS not loaded, scheduling load and callback at\", now());\n",
       "    root._bokeh_is_loading = css_urls.length + js_urls.length;\n",
       "\n",
       "    function on_load() {\n",
       "      root._bokeh_is_loading--;\n",
       "      if (root._bokeh_is_loading === 0) {\n",
       "        console.debug(\"Bokeh: all BokehJS libraries/stylesheets loaded\");\n",
       "        run_callbacks()\n",
       "      }\n",
       "    }\n",
       "\n",
       "    function on_error() {\n",
       "      console.error(\"failed to load \" + url);\n",
       "    }\n",
       "\n",
       "    for (var i = 0; i < css_urls.length; i++) {\n",
       "      var url = css_urls[i];\n",
       "      const element = document.createElement(\"link\");\n",
       "      element.onload = on_load;\n",
       "      element.onerror = on_error;\n",
       "      element.rel = \"stylesheet\";\n",
       "      element.type = \"text/css\";\n",
       "      element.href = url;\n",
       "      console.debug(\"Bokeh: injecting link tag for BokehJS stylesheet: \", url);\n",
       "      document.body.appendChild(element);\n",
       "    }\n",
       "\n",
       "    const hashes = {\"https://cdn.bokeh.org/bokeh/release/bokeh-2.0.2.min.js\": \"ufR9RFnRs6lniiaFvtJziE0YeidtAgBRH6ux2oUItHw5WTvE1zuk9uzhUU/FJXDp\", \"https://cdn.bokeh.org/bokeh/release/bokeh-widgets-2.0.2.min.js\": \"8QM/PGWBT+IssZuRcDcjzwIh1mkOmJSoNMmyYDZbCfXJg3Ap1lEvdVgFuSAwhb/J\", \"https://cdn.bokeh.org/bokeh/release/bokeh-tables-2.0.2.min.js\": \"Jm8cH3Rg0P6UeZhVY5cLy1WzKajUT9KImCY+76hEqrcJt59/d8GPvFHjCkYgnSIn\", \"https://cdn.bokeh.org/bokeh/release/bokeh-gl-2.0.2.min.js\": \"Ozhzj+SI7ywm74aOI/UajcWz+C0NjsPunEVyVIrxzYkB+jA+2tUw8x5xJCbVtK5I\"};\n",
       "\n",
       "    for (var i = 0; i < js_urls.length; i++) {\n",
       "      var url = js_urls[i];\n",
       "      var element = document.createElement('script');\n",
       "      element.onload = on_load;\n",
       "      element.onerror = on_error;\n",
       "      element.async = false;\n",
       "      element.src = url;\n",
       "      if (url in hashes) {\n",
       "        element.crossOrigin = \"anonymous\";\n",
       "        element.integrity = \"sha384-\" + hashes[url];\n",
       "      }\n",
       "      console.debug(\"Bokeh: injecting script tag for BokehJS library: \", url);\n",
       "      document.head.appendChild(element);\n",
       "    }\n",
       "  };\n",
       "\n",
       "  function inject_raw_css(css) {\n",
       "    const element = document.createElement(\"style\");\n",
       "    element.appendChild(document.createTextNode(css));\n",
       "    document.body.appendChild(element);\n",
       "  }\n",
       "\n",
       "  \n",
       "  var js_urls = [\"https://cdn.bokeh.org/bokeh/release/bokeh-2.0.2.min.js\", \"https://cdn.bokeh.org/bokeh/release/bokeh-widgets-2.0.2.min.js\", \"https://cdn.bokeh.org/bokeh/release/bokeh-tables-2.0.2.min.js\", \"https://cdn.bokeh.org/bokeh/release/bokeh-gl-2.0.2.min.js\"];\n",
       "  var css_urls = [];\n",
       "  \n",
       "\n",
       "  var inline_js = [\n",
       "    function(Bokeh) {\n",
       "      Bokeh.set_log_level(\"info\");\n",
       "    },\n",
       "    function(Bokeh) {\n",
       "    \n",
       "    \n",
       "    }\n",
       "  ];\n",
       "\n",
       "  function run_inline_js() {\n",
       "    \n",
       "    if (root.Bokeh !== undefined || force === true) {\n",
       "      \n",
       "    for (var i = 0; i < inline_js.length; i++) {\n",
       "      inline_js[i].call(root, root.Bokeh);\n",
       "    }\n",
       "    if (force === true) {\n",
       "        display_loaded();\n",
       "      }} else if (Date.now() < root._bokeh_timeout) {\n",
       "      setTimeout(run_inline_js, 100);\n",
       "    } else if (!root._bokeh_failed_load) {\n",
       "      console.log(\"Bokeh: BokehJS failed to load within specified timeout.\");\n",
       "      root._bokeh_failed_load = true;\n",
       "    } else if (force !== true) {\n",
       "      var cell = $(document.getElementById(\"1001\")).parents('.cell').data().cell;\n",
       "      cell.output_area.append_execute_result(NB_LOAD_WARNING)\n",
       "    }\n",
       "\n",
       "  }\n",
       "\n",
       "  if (root._bokeh_is_loading === 0) {\n",
       "    console.debug(\"Bokeh: BokehJS loaded, going straight to plotting\");\n",
       "    run_inline_js();\n",
       "  } else {\n",
       "    load_libs(css_urls, js_urls, function() {\n",
       "      console.debug(\"Bokeh: BokehJS plotting callback run at\", now());\n",
       "      run_inline_js();\n",
       "    });\n",
       "  }\n",
       "}(window));"
      ],
      "application/vnd.bokehjs_load.v0+json": "\n(function(root) {\n  function now() {\n    return new Date();\n  }\n\n  var force = true;\n\n  if (typeof root._bokeh_onload_callbacks === \"undefined\" || force === true) {\n    root._bokeh_onload_callbacks = [];\n    root._bokeh_is_loading = undefined;\n  }\n\n  \n\n  \n  if (typeof (root._bokeh_timeout) === \"undefined\" || force === true) {\n    root._bokeh_timeout = Date.now() + 5000;\n    root._bokeh_failed_load = false;\n  }\n\n  var NB_LOAD_WARNING = {'data': {'text/html':\n     \"<div style='background-color: #fdd'>\\n\"+\n     \"<p>\\n\"+\n     \"BokehJS does not appear to have successfully loaded. If loading BokehJS from CDN, this \\n\"+\n     \"may be due to a slow or bad network connection. Possible fixes:\\n\"+\n     \"</p>\\n\"+\n     \"<ul>\\n\"+\n     \"<li>re-rerun `output_notebook()` to attempt to load from CDN again, or</li>\\n\"+\n     \"<li>use INLINE resources instead, as so:</li>\\n\"+\n     \"</ul>\\n\"+\n     \"<code>\\n\"+\n     \"from bokeh.resources import INLINE\\n\"+\n     \"output_notebook(resources=INLINE)\\n\"+\n     \"</code>\\n\"+\n     \"</div>\"}};\n\n  function display_loaded() {\n    var el = document.getElementById(\"1001\");\n    if (el != null) {\n      el.textContent = \"BokehJS is loading...\";\n    }\n    if (root.Bokeh !== undefined) {\n      if (el != null) {\n        el.textContent = \"BokehJS \" + root.Bokeh.version + \" successfully loaded.\";\n      }\n    } else if (Date.now() < root._bokeh_timeout) {\n      setTimeout(display_loaded, 100)\n    }\n  }\n\n\n  function run_callbacks() {\n    try {\n      root._bokeh_onload_callbacks.forEach(function(callback) {\n        if (callback != null)\n          callback();\n      });\n    } finally {\n      delete root._bokeh_onload_callbacks\n    }\n    console.debug(\"Bokeh: all callbacks have finished\");\n  }\n\n  function load_libs(css_urls, js_urls, callback) {\n    if (css_urls == null) css_urls = [];\n    if (js_urls == null) js_urls = [];\n\n    root._bokeh_onload_callbacks.push(callback);\n    if (root._bokeh_is_loading > 0) {\n      console.debug(\"Bokeh: BokehJS is being loaded, scheduling callback at\", now());\n      return null;\n    }\n    if (js_urls == null || js_urls.length === 0) {\n      run_callbacks();\n      return null;\n    }\n    console.debug(\"Bokeh: BokehJS not loaded, scheduling load and callback at\", now());\n    root._bokeh_is_loading = css_urls.length + js_urls.length;\n\n    function on_load() {\n      root._bokeh_is_loading--;\n      if (root._bokeh_is_loading === 0) {\n        console.debug(\"Bokeh: all BokehJS libraries/stylesheets loaded\");\n        run_callbacks()\n      }\n    }\n\n    function on_error() {\n      console.error(\"failed to load \" + url);\n    }\n\n    for (var i = 0; i < css_urls.length; i++) {\n      var url = css_urls[i];\n      const element = document.createElement(\"link\");\n      element.onload = on_load;\n      element.onerror = on_error;\n      element.rel = \"stylesheet\";\n      element.type = \"text/css\";\n      element.href = url;\n      console.debug(\"Bokeh: injecting link tag for BokehJS stylesheet: \", url);\n      document.body.appendChild(element);\n    }\n\n    const hashes = {\"https://cdn.bokeh.org/bokeh/release/bokeh-2.0.2.min.js\": \"ufR9RFnRs6lniiaFvtJziE0YeidtAgBRH6ux2oUItHw5WTvE1zuk9uzhUU/FJXDp\", \"https://cdn.bokeh.org/bokeh/release/bokeh-widgets-2.0.2.min.js\": \"8QM/PGWBT+IssZuRcDcjzwIh1mkOmJSoNMmyYDZbCfXJg3Ap1lEvdVgFuSAwhb/J\", \"https://cdn.bokeh.org/bokeh/release/bokeh-tables-2.0.2.min.js\": \"Jm8cH3Rg0P6UeZhVY5cLy1WzKajUT9KImCY+76hEqrcJt59/d8GPvFHjCkYgnSIn\", \"https://cdn.bokeh.org/bokeh/release/bokeh-gl-2.0.2.min.js\": \"Ozhzj+SI7ywm74aOI/UajcWz+C0NjsPunEVyVIrxzYkB+jA+2tUw8x5xJCbVtK5I\"};\n\n    for (var i = 0; i < js_urls.length; i++) {\n      var url = js_urls[i];\n      var element = document.createElement('script');\n      element.onload = on_load;\n      element.onerror = on_error;\n      element.async = false;\n      element.src = url;\n      if (url in hashes) {\n        element.crossOrigin = \"anonymous\";\n        element.integrity = \"sha384-\" + hashes[url];\n      }\n      console.debug(\"Bokeh: injecting script tag for BokehJS library: \", url);\n      document.head.appendChild(element);\n    }\n  };\n\n  function inject_raw_css(css) {\n    const element = document.createElement(\"style\");\n    element.appendChild(document.createTextNode(css));\n    document.body.appendChild(element);\n  }\n\n  \n  var js_urls = [\"https://cdn.bokeh.org/bokeh/release/bokeh-2.0.2.min.js\", \"https://cdn.bokeh.org/bokeh/release/bokeh-widgets-2.0.2.min.js\", \"https://cdn.bokeh.org/bokeh/release/bokeh-tables-2.0.2.min.js\", \"https://cdn.bokeh.org/bokeh/release/bokeh-gl-2.0.2.min.js\"];\n  var css_urls = [];\n  \n\n  var inline_js = [\n    function(Bokeh) {\n      Bokeh.set_log_level(\"info\");\n    },\n    function(Bokeh) {\n    \n    \n    }\n  ];\n\n  function run_inline_js() {\n    \n    if (root.Bokeh !== undefined || force === true) {\n      \n    for (var i = 0; i < inline_js.length; i++) {\n      inline_js[i].call(root, root.Bokeh);\n    }\n    if (force === true) {\n        display_loaded();\n      }} else if (Date.now() < root._bokeh_timeout) {\n      setTimeout(run_inline_js, 100);\n    } else if (!root._bokeh_failed_load) {\n      console.log(\"Bokeh: BokehJS failed to load within specified timeout.\");\n      root._bokeh_failed_load = true;\n    } else if (force !== true) {\n      var cell = $(document.getElementById(\"1001\")).parents('.cell').data().cell;\n      cell.output_area.append_execute_result(NB_LOAD_WARNING)\n    }\n\n  }\n\n  if (root._bokeh_is_loading === 0) {\n    console.debug(\"Bokeh: BokehJS loaded, going straight to plotting\");\n    run_inline_js();\n  } else {\n    load_libs(css_urls, js_urls, function() {\n      console.debug(\"Bokeh: BokehJS plotting callback run at\", now());\n      run_inline_js();\n    });\n  }\n}(window));"
     },
     "metadata": {},
     "output_type": "display_data"
    }
   ],
   "source": [
    "from bokeh.io import output_notebook, show\n",
    "output_notebook()"
   ]
  },
  {
   "cell_type": "code",
   "execution_count": 8,
   "metadata": {},
   "outputs": [],
   "source": [
    "from bokeh.layouts import column, row\n",
    "from bokeh.plotting import figure\n",
    "from bokeh.models import ColumnDataSource, Select, TextInput, Button, Paragraph\n",
    "import numpy as np\n",
    "import cv2\n",
    "import os\n",
    "\n",
    "os.environ[\"BOKEH_ALLOW_WS_ORIGIN\"] = 'localhost:8889'"
   ]
  },
  {
   "cell_type": "code",
   "execution_count": 9,
   "metadata": {},
   "outputs": [],
   "source": [
    "def modify_doc(doc):\n",
    "    \n",
    "    # create some widgets\n",
    "    button = Button(label=\"Say HI\")\n",
    "    input = TextInput(value=\"Bokeh\")\n",
    "    output = Paragraph()\n",
    "\n",
    "    # add a callback to a widget\n",
    "    def update():\n",
    "        output.text = \"Hello, \" + input.value\n",
    "    button.on_click(update)\n",
    "\n",
    "    # create a layout for everything\n",
    "    layout = column(button, input, output)\n",
    "\n",
    "    # add the layout to curdoc\n",
    "    doc.add_root(layout)\n",
    "    \n",
    "# In the notebook, just pass the function that defines the app to show\n",
    "# You may need to supply notebook_url, e.g notebook_url=\"http://localhost:8889\" \n"
   ]
  },
  {
   "cell_type": "code",
   "execution_count": 10,
   "metadata": {},
   "outputs": [
    {
     "data": {
      "application/vnd.bokehjs_exec.v0+json": "",
      "text/html": [
       "\n",
       "<script id=\"1012\">\n",
       "  var xhr = new XMLHttpRequest()\n",
       "  xhr.responseType = 'blob';\n",
       "  xhr.open('GET', \"http://localhost:49960/autoload.js?bokeh-autoload-element=1012&bokeh-absolute-url=http://localhost:49960&resources=none\", true);\n",
       "  \n",
       "  xhr.onload = function (event) {\n",
       "    var script = document.createElement('script'),\n",
       "    src = URL.createObjectURL(event.target.response);\n",
       "    script.src = src;\n",
       "    document.body.appendChild(script);\n",
       "  };\n",
       "xhr.send();\n",
       "</script>"
      ]
     },
     "metadata": {
      "application/vnd.bokehjs_exec.v0+json": {
       "server_id": "87643772a9b64a199dd1b13634fd0e20"
      }
     },
     "output_type": "display_data"
    }
   ],
   "source": [
    "show(modify_doc) "
   ]
  },
  {
   "cell_type": "code",
   "execution_count": 11,
   "metadata": {},
   "outputs": [],
   "source": [
    "def get_data(N):\n",
    "    return dict(x=np.random.normal(size=N), y=np.random.normal(size=N), r=np.random.normal(size=N) * 0.03)\n",
    "\n",
    "COLORS = [\"black\", \"firebrick\", \"navy\", \"olive\", \"goldenrod\"]\n",
    "\n",
    "def modify_doc(doc):\n",
    "    source = ColumnDataSource(data=get_data(200))\n",
    "\n",
    "    p = figure(tools=\"\", toolbar_location=None)\n",
    "    r = p.circle(x='x', y='y', radius='r', source=source,\n",
    "                 color=\"navy\", alpha=0.6, line_color=\"white\")\n",
    "\n",
    "    \n",
    "    select = Select(title=\"Color\", value=\"navy\", options=COLORS)\n",
    "    input = TextInput(title=\"Number of points\", value=\"200\")\n",
    "\n",
    "    def update_color(attrname, old, new):\n",
    "        r.glyph.fill_color = select.value\n",
    "    select.on_change('value', update_color)\n",
    "\n",
    "    def update_points(attrname, old, new):\n",
    "        N = int(input.value)\n",
    "        source.data = get_data(N)\n",
    "    input.on_change('value', update_points)\n",
    "\n",
    "    layout = column(row(select, input, width=400), row(p))\n",
    "\n",
    "    doc.add_root(layout)"
   ]
  },
  {
   "cell_type": "code",
   "execution_count": 12,
   "metadata": {
    "scrolled": false
   },
   "outputs": [
    {
     "data": {
      "application/vnd.bokehjs_exec.v0+json": "",
      "text/html": [
       "\n",
       "<script id=\"1021\">\n",
       "  var xhr = new XMLHttpRequest()\n",
       "  xhr.responseType = 'blob';\n",
       "  xhr.open('GET', \"http://localhost:49968/autoload.js?bokeh-autoload-element=1021&bokeh-absolute-url=http://localhost:49968&resources=none\", true);\n",
       "  \n",
       "  xhr.onload = function (event) {\n",
       "    var script = document.createElement('script'),\n",
       "    src = URL.createObjectURL(event.target.response);\n",
       "    script.src = src;\n",
       "    document.body.appendChild(script);\n",
       "  };\n",
       "xhr.send();\n",
       "</script>"
      ]
     },
     "metadata": {
      "application/vnd.bokehjs_exec.v0+json": {
       "server_id": "b0257f8e6eeb41968179272f920d2a51"
      }
     },
     "output_type": "display_data"
    }
   ],
   "source": [
    "show(modify_doc) "
   ]
  },
  {
   "cell_type": "code",
   "execution_count": 13,
   "metadata": {},
   "outputs": [],
   "source": [
    "from bokeh.models import ColumnDataSource\n",
    "import math"
   ]
  },
  {
   "cell_type": "code",
   "execution_count": 16,
   "metadata": {},
   "outputs": [],
   "source": [
    "\n",
    "def modify_doc2(doc):\n",
    "    p = figure(match_aspect=True)\n",
    "    p.circle(x=0, y=0, radius=1, fill_color=None, line_width=2)\n",
    "    \n",
    "    # this is just to help the auto-datarange\n",
    "    p.rect(0, 0, 2, 2, alpha=0)\n",
    "\n",
    "    # this is the data source we will stream to\n",
    "    source = ColumnDataSource(data=dict(x=[1], y=[0]))\n",
    "    p.circle(x='x', y='y', size=12, fill_color='white', source=source)\n",
    "\n",
    "    def update():\n",
    "        x, y = source.data['x'][-1], source.data['y'][-1]\n",
    "\n",
    "        # construct the new values for all columns, and pass to stream\n",
    "        new_data = dict(x=[x*math.cos(0.1) - y*math.sin(0.1)], y=[x*math.sin(0.1) + y*math.cos(0.1)])\n",
    "        source.stream(new_data, rollover=8)\n",
    "\n",
    "    doc.add_periodic_callback(update, 150)\n",
    "    doc.add_root(p)\n",
    "    "
   ]
  },
  {
   "cell_type": "code",
   "execution_count": 15,
   "metadata": {
    "scrolled": false
   },
   "outputs": [
    {
     "data": {
      "application/vnd.bokehjs_exec.v0+json": "",
      "text/html": [
       "\n",
       "<script id=\"1093\">\n",
       "  var xhr = new XMLHttpRequest()\n",
       "  xhr.responseType = 'blob';\n",
       "  xhr.open('GET', \"http://localhost:49973/autoload.js?bokeh-autoload-element=1093&bokeh-absolute-url=http://localhost:49973&resources=none\", true);\n",
       "  \n",
       "  xhr.onload = function (event) {\n",
       "    var script = document.createElement('script'),\n",
       "    src = URL.createObjectURL(event.target.response);\n",
       "    script.src = src;\n",
       "    document.body.appendChild(script);\n",
       "  };\n",
       "xhr.send();\n",
       "</script>"
      ]
     },
     "metadata": {
      "application/vnd.bokehjs_exec.v0+json": {
       "server_id": "64b581d830ef4f938d5d199607053320"
      }
     },
     "output_type": "display_data"
    }
   ],
   "source": [
    "show(modify_doc2)"
   ]
  },
  {
   "cell_type": "code",
   "execution_count": 5,
   "metadata": {},
   "outputs": [
    {
     "data": {
      "text/plain": [
       "-0.9352099151945389"
      ]
     },
     "execution_count": 5,
     "metadata": {},
     "output_type": "execute_result"
    }
   ],
   "source": []
  },
  {
   "cell_type": "code",
   "execution_count": 13,
   "metadata": {},
   "outputs": [
    {
     "data": {
      "text/plain": [
       "1200"
      ]
     },
     "execution_count": 13,
     "metadata": {},
     "output_type": "execute_result"
    }
   ],
   "source": []
  },
  {
   "cell_type": "code",
   "execution_count": 36,
   "metadata": {},
   "outputs": [],
   "source": [
    "import math\n",
    "import numpy as np\n",
    "import pandas as pd\n",
    "\n",
    "from bokeh.io import output_file, show\n",
    "from bokeh.models import GraphRenderer, Oval, StaticLayoutProvider\n",
    "from bokeh.palettes import Spectral8\n",
    "from bokeh.plotting import figure\n",
    "\n",
    "#from bokeh.io import output_notebook, show\n",
    "#output_notebook()\n"
   ]
  },
  {
   "cell_type": "code",
   "execution_count": 37,
   "metadata": {},
   "outputs": [],
   "source": [
    "#should be already defined///////\n",
    "def pathToName(path = \"out.mp4\"):\n",
    "    x = path.split(\"/\")\n",
    "    return x[-1].split(\".\")[0]\n",
    "videoFile=\"./videos/mov3.mp4\"\n",
    "videoOut=\"./videos/\"+pathToName(videoFile)+\"out.mp4\"\n",
    "csvOut=\"./videos/\"+pathToName(videoFile)+\".csv\"\n"
   ]
  },
  {
   "cell_type": "code",
   "execution_count": 28,
   "metadata": {},
   "outputs": [],
   "source": [
    "def genBokeh_Skeleton():\n",
    "    mySkeleton=pd.read_csv(\"mySkel.csv\",sep=\";\",index_col=0)  \n",
    "    mySkeleton[\"coord2d\"]=mySkeleton[\"coord2d\"].apply(cleanStrCoords)\n",
    "    # graphbuilder- connections\n",
    "    jSrc=[]\n",
    "    jDst=[]\n",
    "    jSrc.append(0)\n",
    "    jDst.append(1)#head-neck\n",
    "    jSrc.append(2)\n",
    "    jDst.append(3)#right_shoulder - right_elbow\n",
    "    jSrc.append(3)\n",
    "    jDst.append(4)#right_elbow - right_wrist\n",
    "    jSrc.append(5)\n",
    "    jDst.append(6)#left_shoulder - left_elbow\n",
    "    jSrc.append(6)\n",
    "    jDst.append(7)#left_elbow - left_wrist\n",
    "    jSrc.append(8)\n",
    "    jDst.append(9)#right_hip - right_knee\n",
    "    jSrc.append(9)\n",
    "    jDst.append(10)#right_knee - right_foot\n",
    "    jSrc.append(11)\n",
    "    jDst.append(12)#left_hip - left_knee\n",
    "    jSrc.append(12)\n",
    "    jDst.append(13)#left_knee - left_foot\n",
    "    jSrc.append(14)\n",
    "    jDst.append(15)#right_eye - left_eye\n",
    "    #jSrc.append(14)\n",
    "    #jDst.append(1)#right_eye - head\n",
    "    #jSrc.append(15)\n",
    "    #jDst.append(1)#left_eye - head\n",
    "    jSrc.append(5)\n",
    "    jDst.append(2)#left_shoulder - right_shoulder\n",
    "    jDst.append(2)\n",
    "    jSrc.append(19)#right_shoulder - pelvis\n",
    "    jDst.append(5)\n",
    "    jSrc.append(19)#left_shoulder - pelvis\n",
    "    jDst.append(8)\n",
    "    jSrc.append(11)#right_hip - left_hip\n",
    "    conns={'start':jSrc, 'end':jDst}\n",
    "    return mySkeleton, conns\n",
    "\n",
    "def cleanStrCoords(coords):\n",
    "    if isinstance(coords, str):\n",
    "        res=coords[1:-1].split(\",\")\n",
    "        coords=(int(res[0]) , int(res[1]))\n",
    "    return coords"
   ]
  },
  {
   "cell_type": "code",
   "execution_count": 29,
   "metadata": {},
   "outputs": [],
   "source": [
    "def centerViewCoords(h, w):\n",
    "    if h>w:\n",
    "        xmin, ymin, xmax, ymax = 0, int((h-w)/2), w, w+int((h-w)/2)\n",
    "    else:\n",
    "        xmin, ymin, xmax, ymax = int((w-h)/2), 0, h+int((w-h)/2), h\n",
    "    return xmin, ymin, xmax, ymax"
   ]
  },
  {
   "cell_type": "code",
   "execution_count": 34,
   "metadata": {},
   "outputs": [],
   "source": [
    "\n",
    "def modify_doc(doc):\n",
    "\n",
    "    frameNumber=50\n",
    "    videoFile=\"./videos/mov3out.mp4\"\n",
    "    \n",
    "    capture = cv2.VideoCapture(videoFile, cv2.CAP_FFMPEG)\n",
    "    if (capture.isOpened() == False): \n",
    "        print(\"Unable to open video file\")\n",
    "    capture.set(cv2.CAP_PROP_POS_FRAMES, frameNumber)\n",
    "    ret, frame = capture.read()\n",
    "    if not ret:\n",
    "        print(\"Can't receive frame (video end?). Exiting ...\")\n",
    "        frame=cv2.imread(\"./output_net.png\")#error image\n",
    "    capture.release()\n",
    "\n",
    "    frameRGBA = cv2.cvtColor(frame, cv2.COLOR_BGR2RGBA)\n",
    "    frameRGBA = cv2.flip(frameRGBA, 0)\n",
    "    h, w, c = frameRGBA.shape\n",
    "    xmin, ymin, xmax, ymax = centeredViewCoords(h, w)\n",
    "\n",
    "    p = figure(x_range=(xmin, xmax), y_range=(ymin, ymax), tooltips=[(\"x coord\", \"$x\"), (\"y\", \"$y\"), (\"value\", \"@image\")])\n",
    "    p.image_rgba(image=[frameRGBA], x=0, y=0, dw=w, dh=h)    \n",
    "    layout = column(p)\n",
    "\n",
    "    doc.add_root(layout)\n",
    "    "
   ]
  },
  {
   "cell_type": "code",
   "execution_count": 33,
   "metadata": {},
   "outputs": [
    {
     "data": {
      "application/vnd.bokehjs_exec.v0+json": "",
      "text/html": [
       "\n",
       "<script id=\"2545\">\n",
       "  var xhr = new XMLHttpRequest()\n",
       "  xhr.responseType = 'blob';\n",
       "  xhr.open('GET', \"http://localhost:50015/autoload.js?bokeh-autoload-element=2545&bokeh-absolute-url=http://localhost:50015&resources=none\", true);\n",
       "  \n",
       "  xhr.onload = function (event) {\n",
       "    var script = document.createElement('script'),\n",
       "    src = URL.createObjectURL(event.target.response);\n",
       "    script.src = src;\n",
       "    document.body.appendChild(script);\n",
       "  };\n",
       "xhr.send();\n",
       "</script>"
      ]
     },
     "metadata": {
      "application/vnd.bokehjs_exec.v0+json": {
       "server_id": "24bf599a32f3464e9cf667eebb699ba1"
      }
     },
     "output_type": "display_data"
    }
   ],
   "source": [
    "show(modify_doc)"
   ]
  },
  {
   "cell_type": "code",
   "execution_count": 30,
   "metadata": {},
   "outputs": [],
   "source": [
    "h=720\n",
    "w=1280\n",
    "\n",
    "xmin, ymin, xmax, ymax = centerViewCoords(h,w)\n",
    "plot = figure(x_range=(xmin, xmax), y_range=(ymax, ymin),\n",
    "              tools='', toolbar_location=None)\n",
    "graph = GraphRenderer()\n",
    "mySkeleton, conns=genBokeh_Skeleton()\n",
    "graph.node_renderer.data_source.add(mySkeleton.index, 'index')\n",
    "graph.node_renderer.data_source.add(mySkeleton['color'], 'color')\n",
    "graph.node_renderer.glyph = Oval(height=12, width=12, fill_color='color')\n",
    "\n",
    "graph.edge_renderer.data_source.data = conns\n",
    "graph_layout = dict(zip(mySkeleton.index,  mySkeleton[\"coord2d\"]))\n",
    "graph.layout_provider = StaticLayoutProvider(graph_layout=graph_layout)\n",
    "plot.renderers.append(graph)"
   ]
  },
  {
   "cell_type": "code",
   "execution_count": 31,
   "metadata": {},
   "outputs": [
    {
     "data": {
      "text/html": [
       "\n",
       "\n",
       "\n",
       "\n",
       "\n",
       "\n",
       "  <div class=\"bk-root\" id=\"d8337e30-2528-4f75-99d7-c0fa7157c6d7\" data-root-id=\"2174\"></div>\n"
      ]
     },
     "metadata": {},
     "output_type": "display_data"
    },
    {
     "data": {
      "application/javascript": [
       "(function(root) {\n",
       "  function embed_document(root) {\n",
       "    \n",
       "  var docs_json = {\"87adc620-c30b-4c4c-8961-551261dbb40d\":{\"roots\":{\"references\":[{\"attributes\":{\"below\":[{\"id\":\"2183\"}],\"center\":[{\"id\":\"2186\"},{\"id\":\"2190\"}],\"left\":[{\"id\":\"2187\"}],\"renderers\":[{\"id\":\"2192\"}],\"title\":{\"id\":\"2253\"},\"toolbar\":{\"id\":\"2191\"},\"toolbar_location\":null,\"x_range\":{\"id\":\"2175\"},\"x_scale\":{\"id\":\"2179\"},\"y_range\":{\"id\":\"2177\"},\"y_scale\":{\"id\":\"2181\"}},\"id\":\"2174\",\"subtype\":\"Figure\",\"type\":\"Plot\"},{\"attributes\":{\"data\":{\"color\":[\"#7570b3\",\"#7570b3\",\"#d95f02\",\"#d95f02\",\"#d95f02\",\"#1b9e77\",\"#1b9e77\",\"#1b9e77\",\"#66a61e\",\"#66a61e\",\"#66a61e\",\"#e7298a\",\"#e7298a\",\"#e7298a\",\"#d95f02\",\"#1b9e77\",\"#d95f02\",\"#1b9e77\",\"#7570b3\"],\"index\":[0,1,2,3,4,5,6,7,8,9,10,11,12,13,14,15,16,17,19]},\"selected\":{\"id\":\"2272\"},\"selection_policy\":{\"id\":\"2271\"}},\"id\":\"2194\",\"type\":\"ColumnDataSource\"},{\"attributes\":{\"edge_renderer\":{\"id\":\"2208\"},\"inspection_policy\":{\"id\":\"2268\"},\"layout_provider\":{\"id\":\"2210\"},\"node_renderer\":{\"id\":\"2195\"},\"selection_policy\":{\"id\":\"2259\"}},\"id\":\"2192\",\"type\":\"GraphRenderer\"},{\"attributes\":{\"end\":1000,\"start\":280},\"id\":\"2175\",\"type\":\"Range1d\"},{\"attributes\":{},\"id\":\"2179\",\"type\":\"LinearScale\"},{\"attributes\":{\"source\":{\"id\":\"2207\"}},\"id\":\"2209\",\"type\":\"CDSView\"},{\"attributes\":{\"graph_layout\":{\"0\":[639,123],\"1\":[617,191],\"10\":[595,573],\"11\":[662,348],\"12\":[640,461],\"13\":[640,573],\"14\":[617,123],\"15\":[639,123],\"16\":[595,124],\"17\":[640,145],\"19\":[628,348],\"2\":[572,191],\"3\":[527,236],\"4\":[527,191],\"5\":[662,191],\"6\":[729,258],\"7\":[729,191],\"8\":[595,348],\"9\":[595,461]}},\"id\":\"2210\",\"type\":\"StaticLayoutProvider\"},{\"attributes\":{},\"id\":\"2268\",\"type\":\"NodesOnly\"},{\"attributes\":{},\"id\":\"2272\",\"type\":\"Selection\"},{\"attributes\":{},\"id\":\"2258\",\"type\":\"BasicTickFormatter\"},{\"attributes\":{\"end\":0,\"start\":720},\"id\":\"2177\",\"type\":\"Range1d\"},{\"attributes\":{},\"id\":\"2206\",\"type\":\"MultiLine\"},{\"attributes\":{\"fill_color\":{\"field\":\"color\"},\"height\":{\"units\":\"data\",\"value\":12},\"width\":{\"units\":\"data\",\"value\":12}},\"id\":\"2201\",\"type\":\"Oval\"},{\"attributes\":{},\"id\":\"2181\",\"type\":\"LinearScale\"},{\"attributes\":{\"source\":{\"id\":\"2194\"}},\"id\":\"2196\",\"type\":\"CDSView\"},{\"attributes\":{},\"id\":\"2269\",\"type\":\"UnionRenderers\"},{\"attributes\":{\"formatter\":{\"id\":\"2258\"},\"ticker\":{\"id\":\"2184\"}},\"id\":\"2183\",\"type\":\"LinearAxis\"},{\"attributes\":{},\"id\":\"2188\",\"type\":\"BasicTicker\"},{\"attributes\":{\"data\":{\"end\":[1,3,4,6,7,9,10,12,13,15,2,2,5,8],\"start\":[0,2,3,5,6,8,9,11,12,14,5,19,19,11]},\"selected\":{\"id\":\"2270\"},\"selection_policy\":{\"id\":\"2269\"}},\"id\":\"2207\",\"type\":\"ColumnDataSource\"},{\"attributes\":{},\"id\":\"2270\",\"type\":\"Selection\"},{\"attributes\":{},\"id\":\"2184\",\"type\":\"BasicTicker\"},{\"attributes\":{\"text\":\"\"},\"id\":\"2253\",\"type\":\"Title\"},{\"attributes\":{\"axis\":{\"id\":\"2183\"},\"ticker\":null},\"id\":\"2186\",\"type\":\"Grid\"},{\"attributes\":{\"active_drag\":\"auto\",\"active_inspect\":\"auto\",\"active_multi\":null,\"active_scroll\":\"auto\",\"active_tap\":\"auto\"},\"id\":\"2191\",\"type\":\"Toolbar\"},{\"attributes\":{},\"id\":\"2256\",\"type\":\"BasicTickFormatter\"},{\"attributes\":{\"axis\":{\"id\":\"2187\"},\"dimension\":1,\"ticker\":null},\"id\":\"2190\",\"type\":\"Grid\"},{\"attributes\":{},\"id\":\"2271\",\"type\":\"UnionRenderers\"},{\"attributes\":{\"formatter\":{\"id\":\"2256\"},\"ticker\":{\"id\":\"2188\"}},\"id\":\"2187\",\"type\":\"LinearAxis\"},{\"attributes\":{},\"id\":\"2259\",\"type\":\"NodesOnly\"},{\"attributes\":{\"data_source\":{\"id\":\"2194\"},\"glyph\":{\"id\":\"2201\"},\"hover_glyph\":null,\"muted_glyph\":null,\"view\":{\"id\":\"2196\"}},\"id\":\"2195\",\"type\":\"GlyphRenderer\"},{\"attributes\":{\"data_source\":{\"id\":\"2207\"},\"glyph\":{\"id\":\"2206\"},\"hover_glyph\":null,\"muted_glyph\":null,\"view\":{\"id\":\"2209\"}},\"id\":\"2208\",\"type\":\"GlyphRenderer\"}],\"root_ids\":[\"2174\"]},\"title\":\"Bokeh Application\",\"version\":\"2.0.2\"}};\n",
       "  var render_items = [{\"docid\":\"87adc620-c30b-4c4c-8961-551261dbb40d\",\"root_ids\":[\"2174\"],\"roots\":{\"2174\":\"d8337e30-2528-4f75-99d7-c0fa7157c6d7\"}}];\n",
       "  root.Bokeh.embed.embed_items_notebook(docs_json, render_items);\n",
       "\n",
       "  }\n",
       "  if (root.Bokeh !== undefined) {\n",
       "    embed_document(root);\n",
       "  } else {\n",
       "    var attempts = 0;\n",
       "    var timer = setInterval(function(root) {\n",
       "      if (root.Bokeh !== undefined) {\n",
       "        clearInterval(timer);\n",
       "        embed_document(root);\n",
       "      } else {\n",
       "        attempts++;\n",
       "        if (attempts > 100) {\n",
       "          clearInterval(timer);\n",
       "          console.log(\"Bokeh: ERROR: Unable to run BokehJS code because BokehJS library is missing\");\n",
       "        }\n",
       "      }\n",
       "    }, 10, root)\n",
       "  }\n",
       "})(window);"
      ],
      "application/vnd.bokehjs_exec.v0+json": ""
     },
     "metadata": {
      "application/vnd.bokehjs_exec.v0+json": {
       "id": "2174"
      }
     },
     "output_type": "display_data"
    }
   ],
   "source": [
    "show(plot)"
   ]
  },
  {
   "cell_type": "code",
   "execution_count": 24,
   "metadata": {},
   "outputs": [
    {
     "data": {
      "text/plain": [
       "{0: (639, 123),\n",
       " 1: (617, 191),\n",
       " 2: (572, 191),\n",
       " 3: (527, 236),\n",
       " 4: (527, 191),\n",
       " 5: (662, 191),\n",
       " 6: (729, 258),\n",
       " 7: (729, 191),\n",
       " 8: (595, 348),\n",
       " 9: (595, 461),\n",
       " 10: (595, 573),\n",
       " 11: (662, 348),\n",
       " 12: (640, 461),\n",
       " 13: (640, 573),\n",
       " 14: (617, 123),\n",
       " 15: (639, 123),\n",
       " 16: (595, 124),\n",
       " 17: (640, 145),\n",
       " 19: (628, 348)}"
      ]
     },
     "execution_count": 24,
     "metadata": {},
     "output_type": "execute_result"
    }
   ],
   "source": [
    "\n",
    "\n",
    "mySkeleton, conns=genBokeh_Skeleton()\n",
    "\n",
    "dict(zip(mySkeleton.index,  mySkeleton[\"coord2d\"]))"
   ]
  },
  {
   "cell_type": "code",
   "execution_count": 11,
   "metadata": {},
   "outputs": [
    {
     "data": {
      "text/plain": [
       "{'start': [0, 0, 0, 0, 0, 0, 0, 0], 'end': [0, 1, 2, 3, 4, 5, 6, 7]}"
      ]
     },
     "execution_count": 11,
     "metadata": {},
     "output_type": "execute_result"
    }
   ],
   "source": [
    "graph.edge_renderer.data_source.data"
   ]
  },
  {
   "cell_type": "code",
   "execution_count": 18,
   "metadata": {},
   "outputs": [
    {
     "data": {
      "text/plain": [
       "{0: (1.0, 0.0),\n",
       " 1: (0.7071067811865476, 0.7071067811865475),\n",
       " 2: (6.123233995736766e-17, 1.0),\n",
       " 3: (-0.7071067811865475, 0.7071067811865476),\n",
       " 4: (-1.0, 1.2246467991473532e-16),\n",
       " 5: (-0.7071067811865477, -0.7071067811865475),\n",
       " 6: (-1.8369701987210297e-16, -1.0),\n",
       " 7: (0.7071067811865475, -0.7071067811865477)}"
      ]
     },
     "execution_count": 18,
     "metadata": {},
     "output_type": "execute_result"
    }
   ],
   "source": [
    "graph_layout"
   ]
  },
  {
   "cell_type": "code",
   "execution_count": 25,
   "metadata": {},
   "outputs": [
    {
     "data": {
      "text/html": [
       "<div>\n",
       "<style scoped>\n",
       "    .dataframe tbody tr th:only-of-type {\n",
       "        vertical-align: middle;\n",
       "    }\n",
       "\n",
       "    .dataframe tbody tr th {\n",
       "        vertical-align: top;\n",
       "    }\n",
       "\n",
       "    .dataframe thead th {\n",
       "        text-align: right;\n",
       "    }\n",
       "</style>\n",
       "<table border=\"1\" class=\"dataframe\">\n",
       "  <thead>\n",
       "    <tr style=\"text-align: right;\">\n",
       "      <th></th>\n",
       "      <th>coord2d</th>\n",
       "      <th>color</th>\n",
       "      <th>name</th>\n",
       "    </tr>\n",
       "  </thead>\n",
       "  <tbody>\n",
       "    <tr>\n",
       "      <th>0</th>\n",
       "      <td>(639, 123)</td>\n",
       "      <td>#7570b3</td>\n",
       "      <td>head</td>\n",
       "    </tr>\n",
       "    <tr>\n",
       "      <th>1</th>\n",
       "      <td>(617, 191)</td>\n",
       "      <td>#7570b3</td>\n",
       "      <td>neck</td>\n",
       "    </tr>\n",
       "    <tr>\n",
       "      <th>2</th>\n",
       "      <td>(572, 191)</td>\n",
       "      <td>#d95f02</td>\n",
       "      <td>right_shoulder</td>\n",
       "    </tr>\n",
       "    <tr>\n",
       "      <th>3</th>\n",
       "      <td>(527, 236)</td>\n",
       "      <td>#d95f02</td>\n",
       "      <td>right_elbow</td>\n",
       "    </tr>\n",
       "    <tr>\n",
       "      <th>4</th>\n",
       "      <td>(527, 191)</td>\n",
       "      <td>#d95f02</td>\n",
       "      <td>right_wrist</td>\n",
       "    </tr>\n",
       "    <tr>\n",
       "      <th>5</th>\n",
       "      <td>(662, 191)</td>\n",
       "      <td>#1b9e77</td>\n",
       "      <td>left_shoulder</td>\n",
       "    </tr>\n",
       "    <tr>\n",
       "      <th>6</th>\n",
       "      <td>(729, 258)</td>\n",
       "      <td>#1b9e77</td>\n",
       "      <td>left_elbow</td>\n",
       "    </tr>\n",
       "    <tr>\n",
       "      <th>7</th>\n",
       "      <td>(729, 191)</td>\n",
       "      <td>#1b9e77</td>\n",
       "      <td>left_wrist</td>\n",
       "    </tr>\n",
       "    <tr>\n",
       "      <th>8</th>\n",
       "      <td>(595, 348)</td>\n",
       "      <td>#66a61e</td>\n",
       "      <td>right_hip</td>\n",
       "    </tr>\n",
       "    <tr>\n",
       "      <th>9</th>\n",
       "      <td>(595, 461)</td>\n",
       "      <td>#66a61e</td>\n",
       "      <td>right_knee</td>\n",
       "    </tr>\n",
       "    <tr>\n",
       "      <th>10</th>\n",
       "      <td>(595, 573)</td>\n",
       "      <td>#66a61e</td>\n",
       "      <td>right_foot</td>\n",
       "    </tr>\n",
       "    <tr>\n",
       "      <th>11</th>\n",
       "      <td>(662, 348)</td>\n",
       "      <td>#e7298a</td>\n",
       "      <td>left_hip</td>\n",
       "    </tr>\n",
       "    <tr>\n",
       "      <th>12</th>\n",
       "      <td>(640, 461)</td>\n",
       "      <td>#e7298a</td>\n",
       "      <td>left_knee</td>\n",
       "    </tr>\n",
       "    <tr>\n",
       "      <th>13</th>\n",
       "      <td>(640, 573)</td>\n",
       "      <td>#e7298a</td>\n",
       "      <td>left_foot</td>\n",
       "    </tr>\n",
       "    <tr>\n",
       "      <th>14</th>\n",
       "      <td>(617, 123)</td>\n",
       "      <td>#d95f02</td>\n",
       "      <td>right_eye</td>\n",
       "    </tr>\n",
       "    <tr>\n",
       "      <th>15</th>\n",
       "      <td>(639, 123)</td>\n",
       "      <td>#1b9e77</td>\n",
       "      <td>left_eye</td>\n",
       "    </tr>\n",
       "    <tr>\n",
       "      <th>16</th>\n",
       "      <td>(595, 124)</td>\n",
       "      <td>#d95f02</td>\n",
       "      <td>right_ear</td>\n",
       "    </tr>\n",
       "    <tr>\n",
       "      <th>17</th>\n",
       "      <td>(640, 145)</td>\n",
       "      <td>#1b9e77</td>\n",
       "      <td>left_ear</td>\n",
       "    </tr>\n",
       "    <tr>\n",
       "      <th>19</th>\n",
       "      <td>(628, 348)</td>\n",
       "      <td>#7570b3</td>\n",
       "      <td>pelvis</td>\n",
       "    </tr>\n",
       "  </tbody>\n",
       "</table>\n",
       "</div>"
      ],
      "text/plain": [
       "       coord2d    color            name\n",
       "0   (639, 123)  #7570b3            head\n",
       "1   (617, 191)  #7570b3            neck\n",
       "2   (572, 191)  #d95f02  right_shoulder\n",
       "3   (527, 236)  #d95f02     right_elbow\n",
       "4   (527, 191)  #d95f02     right_wrist\n",
       "5   (662, 191)  #1b9e77   left_shoulder\n",
       "6   (729, 258)  #1b9e77      left_elbow\n",
       "7   (729, 191)  #1b9e77      left_wrist\n",
       "8   (595, 348)  #66a61e       right_hip\n",
       "9   (595, 461)  #66a61e      right_knee\n",
       "10  (595, 573)  #66a61e      right_foot\n",
       "11  (662, 348)  #e7298a        left_hip\n",
       "12  (640, 461)  #e7298a       left_knee\n",
       "13  (640, 573)  #e7298a       left_foot\n",
       "14  (617, 123)  #d95f02       right_eye\n",
       "15  (639, 123)  #1b9e77        left_eye\n",
       "16  (595, 124)  #d95f02       right_ear\n",
       "17  (640, 145)  #1b9e77        left_ear\n",
       "19  (628, 348)  #7570b3          pelvis"
      ]
     },
     "execution_count": 25,
     "metadata": {},
     "output_type": "execute_result"
    }
   ],
   "source": [
    "\n",
    "mySkeleton, conns = genBokeh_Skeleton()\n",
    "mySkeleton"
   ]
  },
  {
   "cell_type": "code",
   "execution_count": 51,
   "metadata": {},
   "outputs": [
    {
     "data": {
      "text/plain": [
       "(617, 168)"
      ]
     },
     "execution_count": 51,
     "metadata": {},
     "output_type": "execute_result"
    }
   ],
   "source": [
    "\n",
    "##### Opening joints data ######\n"
   ]
  },
  {
   "cell_type": "code",
   "execution_count": 60,
   "metadata": {},
   "outputs": [
    {
     "data": {
      "text/plain": [
       "['mov1out.mp4',\n",
       " 'mov3out.mp4',\n",
       " 'mov1.csv',\n",
       " 'mov1.mp4',\n",
       " 'mov2.csv',\n",
       " 'mov3.mp4',\n",
       " 'mov2.mp4',\n",
       " 'mov3.csv',\n",
       " 'mov2out.mp4',\n",
       " 'mov5.mp4',\n",
       " 'mov4.csv',\n",
       " 'mov4.mp4',\n",
       " 'mov4out.mp4']"
      ]
     },
     "execution_count": 60,
     "metadata": {},
     "output_type": "execute_result"
    }
   ],
   "source": [
    "\n",
    "f = []\n",
    "for (dirpath, dirnames, filenames) in os.walk(\"./videos\"):\n",
    "    f.extend(filenames)\n",
    "    break\n",
    "filenames"
   ]
  },
  {
   "cell_type": "code",
   "execution_count": 167,
   "metadata": {},
   "outputs": [
    {
     "name": "stdout",
     "output_type": "stream",
     "text": [
      "['mov1', 'mov2', 'mov3', 'mov4']\n"
     ]
    },
    {
     "data": {
      "text/plain": [
       "(550, 191)"
      ]
     },
     "execution_count": 167,
     "metadata": {},
     "output_type": "execute_result"
    }
   ],
   "source": [
    "\n",
    "#import glob\n",
    "\n",
    "studies=glob.glob(\"./videos/*.csv\")\n",
    "for st in range(len(studies)):\n",
    "    studies[st]=studies[st].split(\"/\")[-1].split(\".\")[0]\n",
    "print(studies)\n",
    "\n",
    "study_csv=\"./videos/\"+studies[0]+\".csv\"\n",
    "\n",
    "videoCoords=pd.read_csv(study_csv,sep=\";\",index_col=0)  \n",
    "for col in mimo.columns:\n",
    "    videoCoords[col]=videoCoords[col].apply(cleanStrCoords)\n",
    "videoCoords.iloc[0][\"head\"]"
   ]
  },
  {
   "cell_type": "code",
   "execution_count": 64,
   "metadata": {},
   "outputs": [
    {
     "data": {
      "text/plain": [
       "0    (550, 258)\n",
       "1    (527, 236)\n",
       "2    (505, 236)\n",
       "3    (505, 236)\n",
       "4    (504, 214)\n",
       "Name: neck, dtype: object"
      ]
     },
     "execution_count": 64,
     "metadata": {},
     "output_type": "execute_result"
    }
   ],
   "source": [
    "videoCoords[0:5][\"neck\"]"
   ]
  },
  {
   "cell_type": "code",
   "execution_count": 91,
   "metadata": {},
   "outputs": [
    {
     "name": "stdout",
     "output_type": "stream",
     "text": [
      "[0, 23, 22, 0, 1, 22, 22, 22, 23, 0, 22, 22, 1, 22, 1, 0, 0, 22, 0, 0, 0, 0, 0, 22, 0, 0, 0, 0, 0, -22, 0, 0, -22, 0, -1, -22, 0, -22, -22, 0, -1, -22, 0, -1, -21, 0, 0, -1, 0, 0, 0, 0, 0, 0, 0, 0, 0, 0, 0, 22, 0, 1, 0, 0, 22, 0, 22, 1, 22, 0, 0, 0, 0, 0, 0, 0, 0, 0, 0, 0, 0, 0, 0, 0, 0, -22, -1, 0, 0, -22, -22, -23, 0, -22, -1, -44, -22, -23, -22, 0, -23, 0, -23, -22, -23, 0, -22, -22, -23, -22, -1, 0, -22, -22, -22, -1, -22, 0, -23, -22, -23, -22, -22, 0, -22, -1, -22, 0, 0, 0, -1, 0, 0, -21, -1, 0, 0, 0, 0, 0, 22, 0, 1, 0, 22, 1, 22, 0, 22, 1, 22, 22, 0, 0, 22, 0, 0, 1, 0, 0, 0, 0, 0, 0, 21, 0, -21, 0, 0, -1, 0, 0, -22, 0, 0, -22, -1, 0, -22, 0, -22, -1, -21, 0, 0, 0, 0, 21, 0, 0, 0, 0, 0, 1, 0, 0, 0, 22, 0, 22, 1, 0, 22, 22, 23, 22, 22, 0, 23, 23, 22, 22, 23, 0, 22, 1, 23, 22, 22, 0, 22, 22, 1, 22, 23, 0, 22, 0, 23, 22, 23, 0, 22, 23, 22, 0, 22, 0, 1, 22, 0, 0, 0, 0, 22, 0, 0, 0, 1, 0, 0, -1, 0, 0, 0, 0, -22, -22, -1, -22, 0, 0, -22, -1, -22, -22, 0, 0, 0, 0, 0, 0, -1, 0, 0, 0, 0, 0, 1, 0, 0, 22, 0, 0, 0, 0, 23, 22, 0, 22, 1, 0, 22, 0, 0] [0, 22, 0, 0, 22, 0, 0, -21, -1, 0, -22, -1, 0, 1, 22, 0, 22, 1, 22, 0, -22, 0, 0, -23, 0, -22, -1, 0, 0, 1, 22, 1, 21, 0, 0, -21, -1, -22, -1, 0, -21, 21, 23, 0, 22, 0, 1, 0, 0, 0, -22, 0, -1, -22, 0, 0, 0, 0, 22, 23, 0, 0, 0, 0, 0, -23, 0, -22, 0, 0, 0, 22, 22, 1, 22, 0, -22, 0, -1, -22, -22, 0, -1, 1, 0, 22, 1, 0, 21, 1, 0, 0, -22, 0, -1, 0, 0, 0, 1, 0, -1, 0, 0, 0, -22, 0, 0, -1, -21, 21, 1, 0, 22, 23, 0, 22, 0, 0, -22, 0, -22, -1, 0, 0, 0, 22, 1, 22, 0, 0, 0, 0, -22, -1, -22, 0, -22, 0, 0, 22, 22, 0, 1, 0, 22, 0, -22, 0, -1, -22, -22, 0, 0, 0, 22, 22, 1, 22, -22, 0, 0, -1, -22, -22, 0, 0, 0, 0, 22, 23, 22, 0, 0, 0, 0, -22, 0, 0, -23, 0, 0, 1, 22, 0, 0, 22, 0, 0, 0, 0, -22, -23, -22, 0, 0, 0, 22, 22, 23, 0, 0, 0, 0, -22, -22, -1, 0, 0, 0, 1, -1, 1, 0, 0, -1, 0, -22, 0, -1, 0, 1, 0, 22, 1, 22, 0, 22, 0, 0, -22, 0, 0, -23, 0, 0, 0, 22, 0, 1, 22, 0, 0, 0, 0, -22, -1, -22, -22, 0, 0, 0, 22, 0, 22, 1, 0, 0, 22, -22, 0, -23, 0, 0, 0, 0, 1, 22, 0, 22, 0, 0, -22, 0, 0, -23, -22, 0, 0, 22, 0, 1, 22, 22, 0, 0, 0, 0, -22, -22, -1, 0, 0, 0, 1, 22]\n"
     ]
    }
   ],
   "source": [
    "#position changes\n",
    "retX, retY = [],[]\n",
    "lastX, lastY = (0,0)\n",
    "for i in range(videoCoords.shape[0]):\n",
    "    retX.append(lastX-videoCoords.iloc[i][\"neck\"][0])\n",
    "    retY.append(lastY-videoCoords.iloc[i][\"neck\"][1])\n",
    "    lastX=videoCoords.iloc[i][\"neck\"][0]\n",
    "    lastY=videoCoords.iloc[i][\"neck\"][1]\n",
    "retX[0], retY[0]=(0,0)\n",
    "\n",
    "#print(retX, retY)\n",
    "\n",
    "#speed\n"
   ]
  },
  {
   "cell_type": "code",
   "execution_count": 166,
   "metadata": {},
   "outputs": [
    {
     "data": {
      "text/html": [
       "\n",
       "\n",
       "\n",
       "\n",
       "\n",
       "\n",
       "  <div class=\"bk-root\" id=\"1d63abec-360c-4af5-83e1-e35c32546f40\" data-root-id=\"47515\"></div>\n"
      ]
     },
     "metadata": {},
     "output_type": "display_data"
    },
    {
     "data": {
      "application/javascript": [
       "(function(root) {\n",
       "  function embed_document(root) {\n",
       "    \n",
       "  var docs_json = {\"544dda73-524d-414d-8dbf-6eb0a5c44d61\":{\"roots\":{\"references\":[{\"attributes\":{\"below\":[{\"id\":\"47524\"}],\"center\":[{\"id\":\"47527\"},{\"id\":\"47531\"}],\"left\":[{\"id\":\"47528\"}],\"plot_height\":400,\"plot_width\":400,\"renderers\":[{\"id\":\"47549\"},{\"id\":\"47554\"}],\"title\":{\"id\":\"47765\"},\"toolbar\":{\"id\":\"47539\"},\"x_range\":{\"id\":\"47516\"},\"x_scale\":{\"id\":\"47520\"},\"y_range\":{\"id\":\"47518\"},\"y_scale\":{\"id\":\"47522\"}},\"id\":\"47515\",\"subtype\":\"Figure\",\"type\":\"Plot\"},{\"attributes\":{},\"id\":\"47516\",\"type\":\"DataRange1d\"},{\"attributes\":{\"data_source\":{\"id\":\"47546\"},\"glyph\":{\"id\":\"47547\"},\"hover_glyph\":null,\"muted_glyph\":null,\"nonselection_glyph\":{\"id\":\"47548\"},\"selection_glyph\":null,\"view\":{\"id\":\"47550\"}},\"id\":\"47549\",\"type\":\"GlyphRenderer\"},{\"attributes\":{\"axis\":{\"id\":\"47524\"},\"ticker\":null},\"id\":\"47527\",\"type\":\"Grid\"},{\"attributes\":{},\"id\":\"47533\",\"type\":\"WheelZoomTool\"},{\"attributes\":{},\"id\":\"47532\",\"type\":\"PanTool\"},{\"attributes\":{\"line_alpha\":0.1,\"line_color\":\"#1f77b4\",\"line_width\":2,\"x\":{\"field\":\"x\"},\"y\":{\"field\":\"y\"}},\"id\":\"47553\",\"type\":\"Line\"},{\"attributes\":{\"source\":{\"id\":\"47551\"}},\"id\":\"47555\",\"type\":\"CDSView\"},{\"attributes\":{\"line_color\":\"#1f77b4\",\"line_width\":2,\"x\":{\"field\":\"x\"},\"y\":{\"field\":\"y\"}},\"id\":\"47552\",\"type\":\"Line\"},{\"attributes\":{\"formatter\":{\"id\":\"47768\"},\"ticker\":{\"id\":\"47529\"}},\"id\":\"47528\",\"type\":\"LinearAxis\"},{\"attributes\":{},\"id\":\"47518\",\"type\":\"DataRange1d\"},{\"attributes\":{\"formatter\":{\"id\":\"47770\"},\"ticker\":{\"id\":\"47525\"}},\"id\":\"47524\",\"type\":\"LinearAxis\"},{\"attributes\":{},\"id\":\"47768\",\"type\":\"BasicTickFormatter\"},{\"attributes\":{},\"id\":\"47529\",\"type\":\"BasicTicker\"},{\"attributes\":{\"overlay\":{\"id\":\"47538\"}},\"id\":\"47534\",\"type\":\"BoxZoomTool\"},{\"attributes\":{\"line_color\":\"pink\",\"line_width\":2,\"x\":{\"field\":\"x\"},\"y\":{\"field\":\"y\"}},\"id\":\"47547\",\"type\":\"Line\"},{\"attributes\":{},\"id\":\"47772\",\"type\":\"UnionRenderers\"},{\"attributes\":{\"text\":\"\"},\"id\":\"47765\",\"type\":\"Title\"},{\"attributes\":{},\"id\":\"47522\",\"type\":\"LinearScale\"},{\"attributes\":{\"data\":{\"x\":[0,1,2,3,4,5,6,7,8,9,10,11,12,13,14,15,16,17,18,19,20,21,22,23,24,25,26,27,28,29,30,31,32,33,34,35,36,37,38,39,40,41,42,43,44,45,46,47,48,49,50,51,52,53,54,55,56,57,58,59,60,61,62,63,64,65,66,67,68,69,70,71,72,73,74,75,76,77,78,79,80,81,82,83,84,85,86,87,88,89,90,91,92,93,94,95,96,97,98,99,100,101,102,103,104,105,106,107,108,109,110,111,112,113,114,115,116,117,118,119,120,121,122,123,124,125,126,127,128,129,130,131,132,133,134,135,136,137,138,139,140,141,142,143,144,145,146,147,148,149,150,151,152,153,154,155,156,157,158,159,160,161,162,163,164,165,166,167,168,169,170,171,172,173,174,175,176,177,178,179,180,181,182,183,184,185,186,187,188,189,190,191,192,193,194,195,196,197,198,199,200,201,202,203,204,205,206,207,208,209,210,211,212,213,214,215,216,217,218,219,220,221,222,223,224,225,226,227,228,229,230,231,232,233,234,235,236,237,238,239,240,241,242,243,244,245,246,247,248,249,250,251,252,253,254,255,256,257,258,259,260,261,262,263,264,265,266,267,268,269,270,271,272,273,274,275,276,277,278,279,280,281,282,283,284,285,286,287,288,289,290,291,292,293,294],\"y\":[0,23,22,0,1,22,22,22,23,0,22,22,1,22,1,0,0,22,0,0,0,0,0,22,0,0,0,0,0,-22,0,0,-22,0,-1,-22,0,-22,-22,0,-1,-22,0,-1,-21,0,0,-1,0,0,0,0,0,0,0,0,0,0,0,22,0,1,0,0,22,0,22,1,22,0,0,0,0,0,0,0,0,0,0,0,0,0,0,0,0,-22,-1,0,0,-22,-22,-23,0,-22,-1,-44,-22,-23,-22,0,-23,0,-23,-22,-23,0,-22,-22,-23,-22,-1,0,-22,-22,-22,-1,-22,0,-23,-22,-23,-22,-22,0,-22,-1,-22,0,0,0,-1,0,0,-21,-1,0,0,0,0,0,22,0,1,0,22,1,22,0,22,1,22,22,0,0,22,0,0,1,0,0,0,0,0,0,21,0,-21,0,0,-1,0,0,-22,0,0,-22,-1,0,-22,0,-22,-1,-21,0,0,0,0,21,0,0,0,0,0,1,0,0,0,22,0,22,1,0,22,22,23,22,22,0,23,23,22,22,23,0,22,1,23,22,22,0,22,22,1,22,23,0,22,0,23,22,23,0,22,23,22,0,22,0,1,22,0,0,0,0,22,0,0,0,1,0,0,-1,0,0,0,0,-22,-22,-1,-22,0,0,-22,-1,-22,-22,0,0,0,0,0,0,-1,0,0,0,0,0,1,0,0,22,0,0,0,0,23,22,0,22,1,0,22,0,0]},\"selected\":{\"id\":\"47773\"},\"selection_policy\":{\"id\":\"47772\"}},\"id\":\"47546\",\"type\":\"ColumnDataSource\"},{\"attributes\":{},\"id\":\"47535\",\"type\":\"SaveTool\"},{\"attributes\":{\"axis\":{\"id\":\"47528\"},\"dimension\":1,\"ticker\":null},\"id\":\"47531\",\"type\":\"Grid\"},{\"attributes\":{\"active_drag\":\"auto\",\"active_inspect\":\"auto\",\"active_multi\":null,\"active_scroll\":\"auto\",\"active_tap\":\"auto\",\"tools\":[{\"id\":\"47532\"},{\"id\":\"47533\"},{\"id\":\"47534\"},{\"id\":\"47535\"},{\"id\":\"47536\"},{\"id\":\"47537\"}]},\"id\":\"47539\",\"type\":\"Toolbar\"},{\"attributes\":{\"bottom_units\":\"screen\",\"fill_alpha\":0.5,\"fill_color\":\"lightgrey\",\"left_units\":\"screen\",\"level\":\"overlay\",\"line_alpha\":1.0,\"line_color\":\"black\",\"line_dash\":[4,4],\"line_width\":2,\"render_mode\":\"css\",\"right_units\":\"screen\",\"top_units\":\"screen\"},\"id\":\"47538\",\"type\":\"BoxAnnotation\"},{\"attributes\":{},\"id\":\"47525\",\"type\":\"BasicTicker\"},{\"attributes\":{\"data\":{\"x\":[0,1,2,3,4,5,6,7,8,9,10,11,12,13,14,15,16,17,18,19,20,21,22,23,24,25,26,27,28,29,30,31,32,33,34,35,36,37,38,39,40,41,42,43,44,45,46,47,48,49,50,51,52,53,54,55,56,57,58,59,60,61,62,63,64,65,66,67,68,69,70,71,72,73,74,75,76,77,78,79,80,81,82,83,84,85,86,87,88,89,90,91,92,93,94,95,96,97,98,99,100,101,102,103,104,105,106,107,108,109,110,111,112,113,114,115,116,117,118,119,120,121,122,123,124,125,126,127,128,129,130,131,132,133,134,135,136,137,138,139,140,141,142,143,144,145,146,147,148,149,150,151,152,153,154,155,156,157,158,159,160,161,162,163,164,165,166,167,168,169,170,171,172,173,174,175,176,177,178,179,180,181,182,183,184,185,186,187,188,189,190,191,192,193,194,195,196,197,198,199,200,201,202,203,204,205,206,207,208,209,210,211,212,213,214,215,216,217,218,219,220,221,222,223,224,225,226,227,228,229,230,231,232,233,234,235,236,237,238,239,240,241,242,243,244,245,246,247,248,249,250,251,252,253,254,255,256,257,258,259,260,261,262,263,264,265,266,267,268,269,270,271,272,273,274,275,276,277,278,279,280,281,282,283,284],\"y\":[-1.1,-1.05,0.0,-1.1,-0.05,0.0,0.0,0.0,0.0,0.0,-11.25,-10.1,-9.0,-10.1,-10.05,-8.95,-7.85,-6.75,-5.6,-4.5,-3.4,-2.3,-1.15,-0.05,0.05,1.15,1.15,3.35,4.45,4.45,4.5,5.6,5.6,6.75,7.8,7.8,7.8,7.85,7.85,6.75,6.75,6.75,5.65,5.65,5.6,4.5,4.5,3.4,2.3,1.2,1.15,0.0,0.0,-0.05,-2.2,-2.2,-3.3,-3.4,-4.5,-4.5,-4.5,-4.5,-4.5,-4.5,-4.5,-4.5,-4.5,-4.5,-4.5,-3.4,-3.4,-3.35,-3.35,-3.35,-2.25,-1.15,0.0,0.05,1.15,2.25,3.35,4.5,4.5,5.6,5.65,7.85,8.95,10.1,11.2,11.2,12.35,12.35,13.5,14.6,15.75,14.65,15.7,16.8,17.95,17.95,16.9,15.75,16.85,16.85,17.9,15.75,15.75,14.6,14.65,15.75,15.75,16.85,16.8,15.7,15.65,15.7,15.7,14.6,13.45,12.35,12.35,12.35,11.25,11.2,10.15,10.1,9.0,9.0,7.85,6.75,4.5,3.4,2.25,2.25,0.05,-0.05,-2.25,-2.25,-3.35,-3.4,-4.55,-5.65,-5.65,-6.7,-7.85,-7.85,-7.85,-7.9,-7.9,-7.9,-6.8,-6.8,-6.75,-6.75,-6.7,-6.65,-4.5,-4.5,-3.4,-3.3,-2.2,-1.1,0.0,0.0,1.1,2.2,2.25,2.3,3.4,3.4,4.5,4.55,5.6,5.6,6.65,6.65,5.6,4.55,4.55,4.5,4.5,4.5,3.4,3.35,3.35,2.25,2.2,1.1,0.0,-1.1,-2.25,-2.3,-4.45,-5.55,-6.7,-7.8,-8.9,-7.85,-9.0,-10.15,-11.25,-12.35,-13.5,-13.45,-14.55,-14.6,-15.75,-15.75,-16.85,-15.75,-16.8,-17.9,-16.85,-16.85,-16.85,-15.75,-15.75,-15.75,-15.75,-15.7,-15.75,-14.65,-14.6,-15.75,-15.75,-15.7,-15.65,-14.55,-13.5,-14.6,-13.5,-12.4,-12.35,-11.25,-11.2,-11.2,-10.1,-10.1,-9.0,-7.9,-6.75,-6.7,-5.6,-4.45,-3.35,-3.35,-1.15,-0.05,0.05,2.25,2.25,2.25,3.35,3.4,5.6,6.7,6.7,6.7,6.75,6.75,6.75,6.7,6.75,6.75,6.75,6.75,5.65,4.55,4.45,3.35,3.35,2.25,1.15,1.1,0.0,-1.1,-2.25,-3.35,-3.35,-4.45,-4.5,-4.5,-5.65,-5.65,-5.65]},\"selected\":{\"id\":\"47775\"},\"selection_policy\":{\"id\":\"47774\"}},\"id\":\"47551\",\"type\":\"ColumnDataSource\"},{\"attributes\":{},\"id\":\"47775\",\"type\":\"Selection\"},{\"attributes\":{},\"id\":\"47770\",\"type\":\"BasicTickFormatter\"},{\"attributes\":{},\"id\":\"47536\",\"type\":\"ResetTool\"},{\"attributes\":{},\"id\":\"47520\",\"type\":\"LinearScale\"},{\"attributes\":{\"source\":{\"id\":\"47546\"}},\"id\":\"47550\",\"type\":\"CDSView\"},{\"attributes\":{},\"id\":\"47773\",\"type\":\"Selection\"},{\"attributes\":{\"line_alpha\":0.1,\"line_color\":\"pink\",\"line_width\":2,\"x\":{\"field\":\"x\"},\"y\":{\"field\":\"y\"}},\"id\":\"47548\",\"type\":\"Line\"},{\"attributes\":{},\"id\":\"47774\",\"type\":\"UnionRenderers\"},{\"attributes\":{},\"id\":\"47537\",\"type\":\"HelpTool\"},{\"attributes\":{\"data_source\":{\"id\":\"47551\"},\"glyph\":{\"id\":\"47552\"},\"hover_glyph\":null,\"muted_glyph\":null,\"nonselection_glyph\":{\"id\":\"47553\"},\"selection_glyph\":null,\"view\":{\"id\":\"47555\"}},\"id\":\"47554\",\"type\":\"GlyphRenderer\"}],\"root_ids\":[\"47515\"]},\"title\":\"Bokeh Application\",\"version\":\"2.0.2\"}};\n",
       "  var render_items = [{\"docid\":\"544dda73-524d-414d-8dbf-6eb0a5c44d61\",\"root_ids\":[\"47515\"],\"roots\":{\"47515\":\"1d63abec-360c-4af5-83e1-e35c32546f40\"}}];\n",
       "  root.Bokeh.embed.embed_items_notebook(docs_json, render_items);\n",
       "\n",
       "  }\n",
       "  if (root.Bokeh !== undefined) {\n",
       "    embed_document(root);\n",
       "  } else {\n",
       "    var attempts = 0;\n",
       "    var timer = setInterval(function(root) {\n",
       "      if (root.Bokeh !== undefined) {\n",
       "        clearInterval(timer);\n",
       "        embed_document(root);\n",
       "      } else {\n",
       "        attempts++;\n",
       "        if (attempts > 100) {\n",
       "          clearInterval(timer);\n",
       "          console.log(\"Bokeh: ERROR: Unable to run BokehJS code because BokehJS library is missing\");\n",
       "        }\n",
       "      }\n",
       "    }, 10, root)\n",
       "  }\n",
       "})(window);"
      ],
      "application/vnd.bokehjs_exec.v0+json": ""
     },
     "metadata": {
      "application/vnd.bokehjs_exec.v0+json": {
       "id": "47515"
      }
     },
     "output_type": "display_data"
    }
   ],
   "source": [
    "\n",
    "p = figure(plot_width=400, plot_height=400)\n",
    "\n",
    "# add a line renderer\n",
    "p.line(np.arange(295), retX, line_width=2,color='pink')\n",
    "p.line(np.arange(285), dX, line_width=2)\n",
    "\n",
    "show(p)"
   ]
  },
  {
   "cell_type": "code",
   "execution_count": 164,
   "metadata": {},
   "outputs": [],
   "source": [
    "from scipy.misc import derivative\n",
    "\n",
    "def extCx(x):\n",
    "    return videoCoords.iloc[int(x)][\"neck\"][0]\n",
    "\n",
    "def f(x):\n",
    "    return x**3 + x**2\n",
    "dX=[]\n",
    "for i in range(285):\n",
    "    dX.append(derivative(extCx, i, dx=10))\n",
    "\n",
    "def extCy(x):\n",
    "    return videoCoords.iloc[int(x)][\"neck\"][1]\n",
    "\n",
    "dY=[]\n",
    "for i in range(285):\n",
    "    dY.append(derivative(extCy, i, dx=10))\n"
   ]
  },
  {
   "cell_type": "code",
   "execution_count": 163,
   "metadata": {},
   "outputs": [
    {
     "data": {
      "text/html": [
       "\n",
       "\n",
       "\n",
       "\n",
       "\n",
       "\n",
       "  <div class=\"bk-root\" id=\"31be0059-bec3-41c5-abe7-beb84988af2e\" data-root-id=\"46894\"></div>\n"
      ]
     },
     "metadata": {},
     "output_type": "display_data"
    },
    {
     "data": {
      "application/javascript": [
       "(function(root) {\n",
       "  function embed_document(root) {\n",
       "    \n",
       "  var docs_json = {\"28fd322f-c0fe-4a36-a29f-a4cd6a3c2628\":{\"roots\":{\"references\":[{\"attributes\":{\"below\":[{\"id\":\"46903\"}],\"center\":[{\"id\":\"46906\"},{\"id\":\"46910\"}],\"left\":[{\"id\":\"46907\"}],\"plot_height\":400,\"plot_width\":400,\"renderers\":[{\"id\":\"46928\"},{\"id\":\"46933\"}],\"title\":{\"id\":\"47122\"},\"toolbar\":{\"id\":\"46918\"},\"x_range\":{\"id\":\"46895\"},\"x_scale\":{\"id\":\"46899\"},\"y_range\":{\"id\":\"46897\"},\"y_scale\":{\"id\":\"46901\"}},\"id\":\"46894\",\"subtype\":\"Figure\",\"type\":\"Plot\"},{\"attributes\":{},\"id\":\"47125\",\"type\":\"BasicTickFormatter\"},{\"attributes\":{\"source\":{\"id\":\"46930\"}},\"id\":\"46934\",\"type\":\"CDSView\"},{\"attributes\":{},\"id\":\"46895\",\"type\":\"DataRange1d\"},{\"attributes\":{},\"id\":\"46911\",\"type\":\"PanTool\"},{\"attributes\":{\"axis\":{\"id\":\"46907\"},\"dimension\":1,\"ticker\":null},\"id\":\"46910\",\"type\":\"Grid\"},{\"attributes\":{},\"id\":\"46904\",\"type\":\"BasicTicker\"},{\"attributes\":{},\"id\":\"47132\",\"type\":\"Selection\"},{\"attributes\":{\"active_drag\":\"auto\",\"active_inspect\":\"auto\",\"active_multi\":null,\"active_scroll\":\"auto\",\"active_tap\":\"auto\",\"tools\":[{\"id\":\"46911\"},{\"id\":\"46912\"},{\"id\":\"46913\"},{\"id\":\"46914\"},{\"id\":\"46915\"},{\"id\":\"46916\"}]},\"id\":\"46918\",\"type\":\"Toolbar\"},{\"attributes\":{},\"id\":\"47131\",\"type\":\"UnionRenderers\"},{\"attributes\":{\"data_source\":{\"id\":\"46925\"},\"glyph\":{\"id\":\"46926\"},\"hover_glyph\":null,\"muted_glyph\":null,\"nonselection_glyph\":{\"id\":\"46927\"},\"selection_glyph\":null,\"view\":{\"id\":\"46929\"}},\"id\":\"46928\",\"type\":\"GlyphRenderer\"},{\"attributes\":{},\"id\":\"46912\",\"type\":\"WheelZoomTool\"},{\"attributes\":{\"formatter\":{\"id\":\"47127\"},\"ticker\":{\"id\":\"46904\"}},\"id\":\"46903\",\"type\":\"LinearAxis\"},{\"attributes\":{},\"id\":\"47127\",\"type\":\"BasicTickFormatter\"},{\"attributes\":{\"overlay\":{\"id\":\"46917\"}},\"id\":\"46913\",\"type\":\"BoxZoomTool\"},{\"attributes\":{\"data\":{\"x\":[0,1,2,3,4,5,6,7,8,9,10,11,12,13,14,15,16,17,18,19,20,21,22,23,24,25,26,27,28,29,30,31,32,33,34,35,36,37,38,39,40,41,42,43,44,45,46,47,48,49,50,51,52,53,54,55,56,57,58,59,60,61,62,63,64,65,66,67,68,69,70,71,72,73,74,75,76,77,78,79,80,81,82,83,84,85,86,87,88,89,90,91,92,93,94,95,96,97,98,99,100,101,102,103,104,105,106,107,108,109,110,111,112,113,114,115,116,117,118,119,120,121,122,123,124,125,126,127,128,129,130,131,132,133,134,135,136,137,138,139,140,141,142,143,144,145,146,147,148,149,150,151,152,153,154,155,156,157,158,159,160,161,162,163,164,165,166,167,168,169,170,171,172,173,174,175,176,177,178,179,180,181,182,183,184,185,186,187,188,189,190,191,192,193,194,195,196,197,198,199,200,201,202,203,204,205,206,207,208,209,210,211,212,213,214,215,216,217,218,219,220,221,222,223,224,225,226,227,228,229,230,231,232,233,234,235,236,237,238,239,240,241,242,243,244,245,246,247,248,249,250,251,252,253,254,255,256,257,258,259,260,261,262,263,264,265,266,267,268,269,270,271,272,273,274,275,276,277,278,279,280,281,282,283,284,285,286,287,288,289,290,291,292,293,294],\"y\":[0,22,0,0,22,0,0,-21,-1,0,-22,-1,0,1,22,0,22,1,22,0,-22,0,0,-23,0,-22,-1,0,0,1,22,1,21,0,0,-21,-1,-22,-1,0,-21,21,23,0,22,0,1,0,0,0,-22,0,-1,-22,0,0,0,0,22,23,0,0,0,0,0,-23,0,-22,0,0,0,22,22,1,22,0,-22,0,-1,-22,-22,0,-1,1,0,22,1,0,21,1,0,0,-22,0,-1,0,0,0,1,0,-1,0,0,0,-22,0,0,-1,-21,21,1,0,22,23,0,22,0,0,-22,0,-22,-1,0,0,0,22,1,22,0,0,0,0,-22,-1,-22,0,-22,0,0,22,22,0,1,0,22,0,-22,0,-1,-22,-22,0,0,0,22,22,1,22,-22,0,0,-1,-22,-22,0,0,0,0,22,23,22,0,0,0,0,-22,0,0,-23,0,0,1,22,0,0,22,0,0,0,0,-22,-23,-22,0,0,0,22,22,23,0,0,0,0,-22,-22,-1,0,0,0,1,-1,1,0,0,-1,0,-22,0,-1,0,1,0,22,1,22,0,22,0,0,-22,0,0,-23,0,0,0,22,0,1,22,0,0,0,0,-22,-1,-22,-22,0,0,0,22,0,22,1,0,0,22,-22,0,-23,0,0,0,0,1,22,0,22,0,0,-22,0,0,-23,-22,0,0,22,0,1,22,22,0,0,0,0,-22,-22,-1,0,0,0,1,22]},\"selected\":{\"id\":\"47130\"},\"selection_policy\":{\"id\":\"47129\"}},\"id\":\"46925\",\"type\":\"ColumnDataSource\"},{\"attributes\":{\"bottom_units\":\"screen\",\"fill_alpha\":0.5,\"fill_color\":\"lightgrey\",\"left_units\":\"screen\",\"level\":\"overlay\",\"line_alpha\":1.0,\"line_color\":\"black\",\"line_dash\":[4,4],\"line_width\":2,\"render_mode\":\"css\",\"right_units\":\"screen\",\"top_units\":\"screen\"},\"id\":\"46917\",\"type\":\"BoxAnnotation\"},{\"attributes\":{\"axis\":{\"id\":\"46903\"},\"ticker\":null},\"id\":\"46906\",\"type\":\"Grid\"},{\"attributes\":{},\"id\":\"47129\",\"type\":\"UnionRenderers\"},{\"attributes\":{},\"id\":\"46908\",\"type\":\"BasicTicker\"},{\"attributes\":{},\"id\":\"47130\",\"type\":\"Selection\"},{\"attributes\":{},\"id\":\"46897\",\"type\":\"DataRange1d\"},{\"attributes\":{\"line_alpha\":0.1,\"line_color\":\"#1f77b4\",\"line_width\":2,\"x\":{\"field\":\"x\"},\"y\":{\"field\":\"y\"}},\"id\":\"46932\",\"type\":\"Line\"},{\"attributes\":{\"data\":{\"x\":[0,1,2,3,4,5,6,7,8,9,10,11,12,13,14,15,16,17,18,19,20,21,22,23,24,25,26,27,28,29,30,31,32,33,34,35,36,37,38,39,40,41,42,43,44,45,46,47,48,49,50,51,52,53,54,55,56,57,58,59,60,61,62,63,64,65,66,67,68,69,70,71,72,73,74,75,76,77,78,79,80,81,82,83,84,85,86,87,88,89,90,91,92,93,94,95,96,97,98,99,100,101,102,103,104,105,106,107,108,109,110,111,112,113,114,115,116,117,118,119,120,121,122,123,124,125,126,127,128,129,130,131,132,133,134,135,136,137,138,139,140,141,142,143,144,145,146,147,148,149,150,151,152,153,154,155,156,157,158,159,160,161,162,163,164,165,166,167,168,169,170,171,172,173,174,175,176,177,178,179,180,181,182,183,184,185,186,187,188,189,190,191,192,193,194,195,196,197,198,199,200,201,202,203,204,205,206,207,208,209,210,211,212,213,214,215,216,217,218,219,220,221,222,223,224,225,226,227,228,229,230,231,232,233,234,235,236,237,238,239,240,241,242,243,244,245,246,247,248,249,250,251,252,253,254,255,256,257,258,259,260,261,262,263,264,265,266,267,268,269,270,271,272,273,274,275,276,277,278,279,280,281,282,283,284],\"y\":[3.35,3.4,2.3,1.15,0.0,0.0,-1.1,-1.15,-2.2,-1.1,-2.25,-1.15,-1.15,0.0,1.1,2.2,2.25,1.2,1.15,1.1,-1.1,-1.2,-2.25,-2.2,-1.1,-0.05,1.1,2.25,3.4,3.4,3.35,2.3,1.15,0.0,-1.1,-2.2,-2.3,-2.3,-2.3,-2.25,-0.05,0.0,1.1,2.2,2.2,1.15,1.1,0.0,-1.15,-2.3,-3.35,-2.3,-1.15,-1.15,-0.05,1.1,1.15,2.25,2.25,2.25,1.15,0.05,-1.1,-2.25,-3.35,-3.35,-2.25,-2.25,-1.1,1.15,2.25,2.25,2.3,2.25,2.25,0.0,-0.05,-1.15,-2.2,-2.25,-2.25,-1.15,1.05,1.1,2.25,2.25,1.15,1.15,1.05,-0.05,-1.1,-1.1,-1.15,-1.1,0.0,1.1,1.15,1.2,3.3,2.3,2.25,2.25,0.05,-1.1,-1.15,-2.25,-2.25,-2.25,-1.1,-1.1,-0.05,0.0,0.0,0.0,-1.1,-2.2,-2.25,-3.4,-4.45,-3.4,-3.35,-3.35,-1.15,0.05,1.15,2.25,3.35,3.35,2.25,1.15,-1.05,-1.1,-1.15,-1.15,-2.25,-1.15,0.0,1.1,1.15,2.25,3.35,3.35,2.25,2.2,0.0,-1.1,-2.25,-3.35,-2.25,-1.15,-0.05,0.0,1.15,2.25,3.35,3.35,2.25,2.25,1.1,-1.15,-3.35,-3.35,-3.35,-3.35,-2.25,-0.05,0.0,1.1,1.15,1.15,1.15,1.05,-1.15,-2.25,-2.25,-3.35,-3.35,-3.35,-2.25,-1.1,1.1,2.25,3.35,3.35,3.35,2.25,1.15,0.05,-2.25,-2.25,-2.25,-2.2,-1.1,0.0,1.1,2.25,2.25,2.25,2.25,2.2,1.15,-0.05,-1.15,-1.15,-1.1,-1.1,1.1,2.2,3.4,3.4,3.35,3.35,2.25,1.1,-1.1,-1.15,-2.25,-2.25,-2.25,-1.1,-1.15,-1.1,0.05,0.05,0.0,0.0,-2.2,-2.2,-2.3,-3.4,-3.35,-3.35,-2.25,-2.2,0.0,0.05,2.25,3.35,3.35,2.25,2.25,1.15,0.0,-1.1,-1.15,-1.15,-0.05,-1.15,0.0,1.1,2.25,2.25,2.25,2.25,1.15,1.05,-1.15,-2.25,-3.35,-3.35,-3.35,-1.15,-1.15,-0.05,1.15,2.25,2.25,3.35,1.15,1.15,-0.05,-1.15,-2.25,-2.25,-2.25,-2.2,-1.1,0.0,2.2,2.25,2.25,1.15,1.15,1.1,-1.15]},\"selected\":{\"id\":\"47132\"},\"selection_policy\":{\"id\":\"47131\"}},\"id\":\"46930\",\"type\":\"ColumnDataSource\"},{\"attributes\":{\"line_color\":\"#1f77b4\",\"line_width\":2,\"x\":{\"field\":\"x\"},\"y\":{\"field\":\"y\"}},\"id\":\"46931\",\"type\":\"Line\"},{\"attributes\":{\"formatter\":{\"id\":\"47125\"},\"ticker\":{\"id\":\"46908\"}},\"id\":\"46907\",\"type\":\"LinearAxis\"},{\"attributes\":{\"text\":\"\"},\"id\":\"47122\",\"type\":\"Title\"},{\"attributes\":{\"line_alpha\":0.1,\"line_color\":\"pink\",\"line_width\":2,\"x\":{\"field\":\"x\"},\"y\":{\"field\":\"y\"}},\"id\":\"46927\",\"type\":\"Line\"},{\"attributes\":{},\"id\":\"46914\",\"type\":\"SaveTool\"},{\"attributes\":{},\"id\":\"46901\",\"type\":\"LinearScale\"},{\"attributes\":{\"source\":{\"id\":\"46925\"}},\"id\":\"46929\",\"type\":\"CDSView\"},{\"attributes\":{},\"id\":\"46899\",\"type\":\"LinearScale\"},{\"attributes\":{},\"id\":\"46916\",\"type\":\"HelpTool\"},{\"attributes\":{},\"id\":\"46915\",\"type\":\"ResetTool\"},{\"attributes\":{\"data_source\":{\"id\":\"46930\"},\"glyph\":{\"id\":\"46931\"},\"hover_glyph\":null,\"muted_glyph\":null,\"nonselection_glyph\":{\"id\":\"46932\"},\"selection_glyph\":null,\"view\":{\"id\":\"46934\"}},\"id\":\"46933\",\"type\":\"GlyphRenderer\"},{\"attributes\":{\"line_color\":\"pink\",\"line_width\":2,\"x\":{\"field\":\"x\"},\"y\":{\"field\":\"y\"}},\"id\":\"46926\",\"type\":\"Line\"}],\"root_ids\":[\"46894\"]},\"title\":\"Bokeh Application\",\"version\":\"2.0.2\"}};\n",
       "  var render_items = [{\"docid\":\"28fd322f-c0fe-4a36-a29f-a4cd6a3c2628\",\"root_ids\":[\"46894\"],\"roots\":{\"46894\":\"31be0059-bec3-41c5-abe7-beb84988af2e\"}}];\n",
       "  root.Bokeh.embed.embed_items_notebook(docs_json, render_items);\n",
       "\n",
       "  }\n",
       "  if (root.Bokeh !== undefined) {\n",
       "    embed_document(root);\n",
       "  } else {\n",
       "    var attempts = 0;\n",
       "    var timer = setInterval(function(root) {\n",
       "      if (root.Bokeh !== undefined) {\n",
       "        clearInterval(timer);\n",
       "        embed_document(root);\n",
       "      } else {\n",
       "        attempts++;\n",
       "        if (attempts > 100) {\n",
       "          clearInterval(timer);\n",
       "          console.log(\"Bokeh: ERROR: Unable to run BokehJS code because BokehJS library is missing\");\n",
       "        }\n",
       "      }\n",
       "    }, 10, root)\n",
       "  }\n",
       "})(window);"
      ],
      "application/vnd.bokehjs_exec.v0+json": ""
     },
     "metadata": {
      "application/vnd.bokehjs_exec.v0+json": {
       "id": "46894"
      }
     },
     "output_type": "display_data"
    }
   ],
   "source": [
    "\n",
    "p = figure(plot_width=400, plot_height=400)\n",
    "\n",
    "# add a line renderer\n",
    "p.line(np.arange(295), retY, line_width=2,color='pink')\n",
    "p.line(np.arange(285), dY, line_width=2)\n",
    "\n",
    "show(p)"
   ]
  },
  {
   "cell_type": "code",
   "execution_count": null,
   "metadata": {},
   "outputs": [],
   "source": []
  }
 ],
 "metadata": {
  "kernelspec": {
   "display_name": "Python 3",
   "language": "python",
   "name": "python3"
  },
  "language_info": {
   "codemirror_mode": {
    "name": "ipython",
    "version": 3
   },
   "file_extension": ".py",
   "mimetype": "text/x-python",
   "name": "python",
   "nbconvert_exporter": "python",
   "pygments_lexer": "ipython3",
   "version": "3.7.7"
  }
 },
 "nbformat": 4,
 "nbformat_minor": 4
}
