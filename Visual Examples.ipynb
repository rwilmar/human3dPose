{
 "cells": [
  {
   "cell_type": "code",
   "execution_count": 1,
   "metadata": {},
   "outputs": [
    {
     "data": {
      "text/html": [
       "\n",
       "    <div class=\"bk-root\">\n",
       "        <a href=\"https://bokeh.org\" target=\"_blank\" class=\"bk-logo bk-logo-small bk-logo-notebook\"></a>\n",
       "        <span id=\"1001\">Loading BokehJS ...</span>\n",
       "    </div>"
      ]
     },
     "metadata": {},
     "output_type": "display_data"
    },
    {
     "data": {
      "application/javascript": [
       "\n",
       "(function(root) {\n",
       "  function now() {\n",
       "    return new Date();\n",
       "  }\n",
       "\n",
       "  var force = true;\n",
       "\n",
       "  if (typeof root._bokeh_onload_callbacks === \"undefined\" || force === true) {\n",
       "    root._bokeh_onload_callbacks = [];\n",
       "    root._bokeh_is_loading = undefined;\n",
       "  }\n",
       "\n",
       "  var JS_MIME_TYPE = 'application/javascript';\n",
       "  var HTML_MIME_TYPE = 'text/html';\n",
       "  var EXEC_MIME_TYPE = 'application/vnd.bokehjs_exec.v0+json';\n",
       "  var CLASS_NAME = 'output_bokeh rendered_html';\n",
       "\n",
       "  /**\n",
       "   * Render data to the DOM node\n",
       "   */\n",
       "  function render(props, node) {\n",
       "    var script = document.createElement(\"script\");\n",
       "    node.appendChild(script);\n",
       "  }\n",
       "\n",
       "  /**\n",
       "   * Handle when an output is cleared or removed\n",
       "   */\n",
       "  function handleClearOutput(event, handle) {\n",
       "    var cell = handle.cell;\n",
       "\n",
       "    var id = cell.output_area._bokeh_element_id;\n",
       "    var server_id = cell.output_area._bokeh_server_id;\n",
       "    // Clean up Bokeh references\n",
       "    if (id != null && id in Bokeh.index) {\n",
       "      Bokeh.index[id].model.document.clear();\n",
       "      delete Bokeh.index[id];\n",
       "    }\n",
       "\n",
       "    if (server_id !== undefined) {\n",
       "      // Clean up Bokeh references\n",
       "      var cmd = \"from bokeh.io.state import curstate; print(curstate().uuid_to_server['\" + server_id + \"'].get_sessions()[0].document.roots[0]._id)\";\n",
       "      cell.notebook.kernel.execute(cmd, {\n",
       "        iopub: {\n",
       "          output: function(msg) {\n",
       "            var id = msg.content.text.trim();\n",
       "            if (id in Bokeh.index) {\n",
       "              Bokeh.index[id].model.document.clear();\n",
       "              delete Bokeh.index[id];\n",
       "            }\n",
       "          }\n",
       "        }\n",
       "      });\n",
       "      // Destroy server and session\n",
       "      var cmd = \"import bokeh.io.notebook as ion; ion.destroy_server('\" + server_id + \"')\";\n",
       "      cell.notebook.kernel.execute(cmd);\n",
       "    }\n",
       "  }\n",
       "\n",
       "  /**\n",
       "   * Handle when a new output is added\n",
       "   */\n",
       "  function handleAddOutput(event, handle) {\n",
       "    var output_area = handle.output_area;\n",
       "    var output = handle.output;\n",
       "\n",
       "    // limit handleAddOutput to display_data with EXEC_MIME_TYPE content only\n",
       "    if ((output.output_type != \"display_data\") || (!output.data.hasOwnProperty(EXEC_MIME_TYPE))) {\n",
       "      return\n",
       "    }\n",
       "\n",
       "    var toinsert = output_area.element.find(\".\" + CLASS_NAME.split(' ')[0]);\n",
       "\n",
       "    if (output.metadata[EXEC_MIME_TYPE][\"id\"] !== undefined) {\n",
       "      toinsert[toinsert.length - 1].firstChild.textContent = output.data[JS_MIME_TYPE];\n",
       "      // store reference to embed id on output_area\n",
       "      output_area._bokeh_element_id = output.metadata[EXEC_MIME_TYPE][\"id\"];\n",
       "    }\n",
       "    if (output.metadata[EXEC_MIME_TYPE][\"server_id\"] !== undefined) {\n",
       "      var bk_div = document.createElement(\"div\");\n",
       "      bk_div.innerHTML = output.data[HTML_MIME_TYPE];\n",
       "      var script_attrs = bk_div.children[0].attributes;\n",
       "      for (var i = 0; i < script_attrs.length; i++) {\n",
       "        toinsert[toinsert.length - 1].firstChild.setAttribute(script_attrs[i].name, script_attrs[i].value);\n",
       "        toinsert[toinsert.length - 1].firstChild.textContent = bk_div.children[0].textContent\n",
       "      }\n",
       "      // store reference to server id on output_area\n",
       "      output_area._bokeh_server_id = output.metadata[EXEC_MIME_TYPE][\"server_id\"];\n",
       "    }\n",
       "  }\n",
       "\n",
       "  function register_renderer(events, OutputArea) {\n",
       "\n",
       "    function append_mime(data, metadata, element) {\n",
       "      // create a DOM node to render to\n",
       "      var toinsert = this.create_output_subarea(\n",
       "        metadata,\n",
       "        CLASS_NAME,\n",
       "        EXEC_MIME_TYPE\n",
       "      );\n",
       "      this.keyboard_manager.register_events(toinsert);\n",
       "      // Render to node\n",
       "      var props = {data: data, metadata: metadata[EXEC_MIME_TYPE]};\n",
       "      render(props, toinsert[toinsert.length - 1]);\n",
       "      element.append(toinsert);\n",
       "      return toinsert\n",
       "    }\n",
       "\n",
       "    /* Handle when an output is cleared or removed */\n",
       "    events.on('clear_output.CodeCell', handleClearOutput);\n",
       "    events.on('delete.Cell', handleClearOutput);\n",
       "\n",
       "    /* Handle when a new output is added */\n",
       "    events.on('output_added.OutputArea', handleAddOutput);\n",
       "\n",
       "    /**\n",
       "     * Register the mime type and append_mime function with output_area\n",
       "     */\n",
       "    OutputArea.prototype.register_mime_type(EXEC_MIME_TYPE, append_mime, {\n",
       "      /* Is output safe? */\n",
       "      safe: true,\n",
       "      /* Index of renderer in `output_area.display_order` */\n",
       "      index: 0\n",
       "    });\n",
       "  }\n",
       "\n",
       "  // register the mime type if in Jupyter Notebook environment and previously unregistered\n",
       "  if (root.Jupyter !== undefined) {\n",
       "    var events = require('base/js/events');\n",
       "    var OutputArea = require('notebook/js/outputarea').OutputArea;\n",
       "\n",
       "    if (OutputArea.prototype.mime_types().indexOf(EXEC_MIME_TYPE) == -1) {\n",
       "      register_renderer(events, OutputArea);\n",
       "    }\n",
       "  }\n",
       "\n",
       "  \n",
       "  if (typeof (root._bokeh_timeout) === \"undefined\" || force === true) {\n",
       "    root._bokeh_timeout = Date.now() + 5000;\n",
       "    root._bokeh_failed_load = false;\n",
       "  }\n",
       "\n",
       "  var NB_LOAD_WARNING = {'data': {'text/html':\n",
       "     \"<div style='background-color: #fdd'>\\n\"+\n",
       "     \"<p>\\n\"+\n",
       "     \"BokehJS does not appear to have successfully loaded. If loading BokehJS from CDN, this \\n\"+\n",
       "     \"may be due to a slow or bad network connection. Possible fixes:\\n\"+\n",
       "     \"</p>\\n\"+\n",
       "     \"<ul>\\n\"+\n",
       "     \"<li>re-rerun `output_notebook()` to attempt to load from CDN again, or</li>\\n\"+\n",
       "     \"<li>use INLINE resources instead, as so:</li>\\n\"+\n",
       "     \"</ul>\\n\"+\n",
       "     \"<code>\\n\"+\n",
       "     \"from bokeh.resources import INLINE\\n\"+\n",
       "     \"output_notebook(resources=INLINE)\\n\"+\n",
       "     \"</code>\\n\"+\n",
       "     \"</div>\"}};\n",
       "\n",
       "  function display_loaded() {\n",
       "    var el = document.getElementById(\"1001\");\n",
       "    if (el != null) {\n",
       "      el.textContent = \"BokehJS is loading...\";\n",
       "    }\n",
       "    if (root.Bokeh !== undefined) {\n",
       "      if (el != null) {\n",
       "        el.textContent = \"BokehJS \" + root.Bokeh.version + \" successfully loaded.\";\n",
       "      }\n",
       "    } else if (Date.now() < root._bokeh_timeout) {\n",
       "      setTimeout(display_loaded, 100)\n",
       "    }\n",
       "  }\n",
       "\n",
       "\n",
       "  function run_callbacks() {\n",
       "    try {\n",
       "      root._bokeh_onload_callbacks.forEach(function(callback) {\n",
       "        if (callback != null)\n",
       "          callback();\n",
       "      });\n",
       "    } finally {\n",
       "      delete root._bokeh_onload_callbacks\n",
       "    }\n",
       "    console.debug(\"Bokeh: all callbacks have finished\");\n",
       "  }\n",
       "\n",
       "  function load_libs(css_urls, js_urls, callback) {\n",
       "    if (css_urls == null) css_urls = [];\n",
       "    if (js_urls == null) js_urls = [];\n",
       "\n",
       "    root._bokeh_onload_callbacks.push(callback);\n",
       "    if (root._bokeh_is_loading > 0) {\n",
       "      console.debug(\"Bokeh: BokehJS is being loaded, scheduling callback at\", now());\n",
       "      return null;\n",
       "    }\n",
       "    if (js_urls == null || js_urls.length === 0) {\n",
       "      run_callbacks();\n",
       "      return null;\n",
       "    }\n",
       "    console.debug(\"Bokeh: BokehJS not loaded, scheduling load and callback at\", now());\n",
       "    root._bokeh_is_loading = css_urls.length + js_urls.length;\n",
       "\n",
       "    function on_load() {\n",
       "      root._bokeh_is_loading--;\n",
       "      if (root._bokeh_is_loading === 0) {\n",
       "        console.debug(\"Bokeh: all BokehJS libraries/stylesheets loaded\");\n",
       "        run_callbacks()\n",
       "      }\n",
       "    }\n",
       "\n",
       "    function on_error() {\n",
       "      console.error(\"failed to load \" + url);\n",
       "    }\n",
       "\n",
       "    for (var i = 0; i < css_urls.length; i++) {\n",
       "      var url = css_urls[i];\n",
       "      const element = document.createElement(\"link\");\n",
       "      element.onload = on_load;\n",
       "      element.onerror = on_error;\n",
       "      element.rel = \"stylesheet\";\n",
       "      element.type = \"text/css\";\n",
       "      element.href = url;\n",
       "      console.debug(\"Bokeh: injecting link tag for BokehJS stylesheet: \", url);\n",
       "      document.body.appendChild(element);\n",
       "    }\n",
       "\n",
       "    const hashes = {\"https://cdn.bokeh.org/bokeh/release/bokeh-2.0.2.min.js\": \"ufR9RFnRs6lniiaFvtJziE0YeidtAgBRH6ux2oUItHw5WTvE1zuk9uzhUU/FJXDp\", \"https://cdn.bokeh.org/bokeh/release/bokeh-widgets-2.0.2.min.js\": \"8QM/PGWBT+IssZuRcDcjzwIh1mkOmJSoNMmyYDZbCfXJg3Ap1lEvdVgFuSAwhb/J\", \"https://cdn.bokeh.org/bokeh/release/bokeh-tables-2.0.2.min.js\": \"Jm8cH3Rg0P6UeZhVY5cLy1WzKajUT9KImCY+76hEqrcJt59/d8GPvFHjCkYgnSIn\", \"https://cdn.bokeh.org/bokeh/release/bokeh-gl-2.0.2.min.js\": \"Ozhzj+SI7ywm74aOI/UajcWz+C0NjsPunEVyVIrxzYkB+jA+2tUw8x5xJCbVtK5I\"};\n",
       "\n",
       "    for (var i = 0; i < js_urls.length; i++) {\n",
       "      var url = js_urls[i];\n",
       "      var element = document.createElement('script');\n",
       "      element.onload = on_load;\n",
       "      element.onerror = on_error;\n",
       "      element.async = false;\n",
       "      element.src = url;\n",
       "      if (url in hashes) {\n",
       "        element.crossOrigin = \"anonymous\";\n",
       "        element.integrity = \"sha384-\" + hashes[url];\n",
       "      }\n",
       "      console.debug(\"Bokeh: injecting script tag for BokehJS library: \", url);\n",
       "      document.head.appendChild(element);\n",
       "    }\n",
       "  };\n",
       "\n",
       "  function inject_raw_css(css) {\n",
       "    const element = document.createElement(\"style\");\n",
       "    element.appendChild(document.createTextNode(css));\n",
       "    document.body.appendChild(element);\n",
       "  }\n",
       "\n",
       "  \n",
       "  var js_urls = [\"https://cdn.bokeh.org/bokeh/release/bokeh-2.0.2.min.js\", \"https://cdn.bokeh.org/bokeh/release/bokeh-widgets-2.0.2.min.js\", \"https://cdn.bokeh.org/bokeh/release/bokeh-tables-2.0.2.min.js\", \"https://cdn.bokeh.org/bokeh/release/bokeh-gl-2.0.2.min.js\"];\n",
       "  var css_urls = [];\n",
       "  \n",
       "\n",
       "  var inline_js = [\n",
       "    function(Bokeh) {\n",
       "      Bokeh.set_log_level(\"info\");\n",
       "    },\n",
       "    function(Bokeh) {\n",
       "    \n",
       "    \n",
       "    }\n",
       "  ];\n",
       "\n",
       "  function run_inline_js() {\n",
       "    \n",
       "    if (root.Bokeh !== undefined || force === true) {\n",
       "      \n",
       "    for (var i = 0; i < inline_js.length; i++) {\n",
       "      inline_js[i].call(root, root.Bokeh);\n",
       "    }\n",
       "    if (force === true) {\n",
       "        display_loaded();\n",
       "      }} else if (Date.now() < root._bokeh_timeout) {\n",
       "      setTimeout(run_inline_js, 100);\n",
       "    } else if (!root._bokeh_failed_load) {\n",
       "      console.log(\"Bokeh: BokehJS failed to load within specified timeout.\");\n",
       "      root._bokeh_failed_load = true;\n",
       "    } else if (force !== true) {\n",
       "      var cell = $(document.getElementById(\"1001\")).parents('.cell').data().cell;\n",
       "      cell.output_area.append_execute_result(NB_LOAD_WARNING)\n",
       "    }\n",
       "\n",
       "  }\n",
       "\n",
       "  if (root._bokeh_is_loading === 0) {\n",
       "    console.debug(\"Bokeh: BokehJS loaded, going straight to plotting\");\n",
       "    run_inline_js();\n",
       "  } else {\n",
       "    load_libs(css_urls, js_urls, function() {\n",
       "      console.debug(\"Bokeh: BokehJS plotting callback run at\", now());\n",
       "      run_inline_js();\n",
       "    });\n",
       "  }\n",
       "}(window));"
      ],
      "application/vnd.bokehjs_load.v0+json": "\n(function(root) {\n  function now() {\n    return new Date();\n  }\n\n  var force = true;\n\n  if (typeof root._bokeh_onload_callbacks === \"undefined\" || force === true) {\n    root._bokeh_onload_callbacks = [];\n    root._bokeh_is_loading = undefined;\n  }\n\n  \n\n  \n  if (typeof (root._bokeh_timeout) === \"undefined\" || force === true) {\n    root._bokeh_timeout = Date.now() + 5000;\n    root._bokeh_failed_load = false;\n  }\n\n  var NB_LOAD_WARNING = {'data': {'text/html':\n     \"<div style='background-color: #fdd'>\\n\"+\n     \"<p>\\n\"+\n     \"BokehJS does not appear to have successfully loaded. If loading BokehJS from CDN, this \\n\"+\n     \"may be due to a slow or bad network connection. Possible fixes:\\n\"+\n     \"</p>\\n\"+\n     \"<ul>\\n\"+\n     \"<li>re-rerun `output_notebook()` to attempt to load from CDN again, or</li>\\n\"+\n     \"<li>use INLINE resources instead, as so:</li>\\n\"+\n     \"</ul>\\n\"+\n     \"<code>\\n\"+\n     \"from bokeh.resources import INLINE\\n\"+\n     \"output_notebook(resources=INLINE)\\n\"+\n     \"</code>\\n\"+\n     \"</div>\"}};\n\n  function display_loaded() {\n    var el = document.getElementById(\"1001\");\n    if (el != null) {\n      el.textContent = \"BokehJS is loading...\";\n    }\n    if (root.Bokeh !== undefined) {\n      if (el != null) {\n        el.textContent = \"BokehJS \" + root.Bokeh.version + \" successfully loaded.\";\n      }\n    } else if (Date.now() < root._bokeh_timeout) {\n      setTimeout(display_loaded, 100)\n    }\n  }\n\n\n  function run_callbacks() {\n    try {\n      root._bokeh_onload_callbacks.forEach(function(callback) {\n        if (callback != null)\n          callback();\n      });\n    } finally {\n      delete root._bokeh_onload_callbacks\n    }\n    console.debug(\"Bokeh: all callbacks have finished\");\n  }\n\n  function load_libs(css_urls, js_urls, callback) {\n    if (css_urls == null) css_urls = [];\n    if (js_urls == null) js_urls = [];\n\n    root._bokeh_onload_callbacks.push(callback);\n    if (root._bokeh_is_loading > 0) {\n      console.debug(\"Bokeh: BokehJS is being loaded, scheduling callback at\", now());\n      return null;\n    }\n    if (js_urls == null || js_urls.length === 0) {\n      run_callbacks();\n      return null;\n    }\n    console.debug(\"Bokeh: BokehJS not loaded, scheduling load and callback at\", now());\n    root._bokeh_is_loading = css_urls.length + js_urls.length;\n\n    function on_load() {\n      root._bokeh_is_loading--;\n      if (root._bokeh_is_loading === 0) {\n        console.debug(\"Bokeh: all BokehJS libraries/stylesheets loaded\");\n        run_callbacks()\n      }\n    }\n\n    function on_error() {\n      console.error(\"failed to load \" + url);\n    }\n\n    for (var i = 0; i < css_urls.length; i++) {\n      var url = css_urls[i];\n      const element = document.createElement(\"link\");\n      element.onload = on_load;\n      element.onerror = on_error;\n      element.rel = \"stylesheet\";\n      element.type = \"text/css\";\n      element.href = url;\n      console.debug(\"Bokeh: injecting link tag for BokehJS stylesheet: \", url);\n      document.body.appendChild(element);\n    }\n\n    const hashes = {\"https://cdn.bokeh.org/bokeh/release/bokeh-2.0.2.min.js\": \"ufR9RFnRs6lniiaFvtJziE0YeidtAgBRH6ux2oUItHw5WTvE1zuk9uzhUU/FJXDp\", \"https://cdn.bokeh.org/bokeh/release/bokeh-widgets-2.0.2.min.js\": \"8QM/PGWBT+IssZuRcDcjzwIh1mkOmJSoNMmyYDZbCfXJg3Ap1lEvdVgFuSAwhb/J\", \"https://cdn.bokeh.org/bokeh/release/bokeh-tables-2.0.2.min.js\": \"Jm8cH3Rg0P6UeZhVY5cLy1WzKajUT9KImCY+76hEqrcJt59/d8GPvFHjCkYgnSIn\", \"https://cdn.bokeh.org/bokeh/release/bokeh-gl-2.0.2.min.js\": \"Ozhzj+SI7ywm74aOI/UajcWz+C0NjsPunEVyVIrxzYkB+jA+2tUw8x5xJCbVtK5I\"};\n\n    for (var i = 0; i < js_urls.length; i++) {\n      var url = js_urls[i];\n      var element = document.createElement('script');\n      element.onload = on_load;\n      element.onerror = on_error;\n      element.async = false;\n      element.src = url;\n      if (url in hashes) {\n        element.crossOrigin = \"anonymous\";\n        element.integrity = \"sha384-\" + hashes[url];\n      }\n      console.debug(\"Bokeh: injecting script tag for BokehJS library: \", url);\n      document.head.appendChild(element);\n    }\n  };\n\n  function inject_raw_css(css) {\n    const element = document.createElement(\"style\");\n    element.appendChild(document.createTextNode(css));\n    document.body.appendChild(element);\n  }\n\n  \n  var js_urls = [\"https://cdn.bokeh.org/bokeh/release/bokeh-2.0.2.min.js\", \"https://cdn.bokeh.org/bokeh/release/bokeh-widgets-2.0.2.min.js\", \"https://cdn.bokeh.org/bokeh/release/bokeh-tables-2.0.2.min.js\", \"https://cdn.bokeh.org/bokeh/release/bokeh-gl-2.0.2.min.js\"];\n  var css_urls = [];\n  \n\n  var inline_js = [\n    function(Bokeh) {\n      Bokeh.set_log_level(\"info\");\n    },\n    function(Bokeh) {\n    \n    \n    }\n  ];\n\n  function run_inline_js() {\n    \n    if (root.Bokeh !== undefined || force === true) {\n      \n    for (var i = 0; i < inline_js.length; i++) {\n      inline_js[i].call(root, root.Bokeh);\n    }\n    if (force === true) {\n        display_loaded();\n      }} else if (Date.now() < root._bokeh_timeout) {\n      setTimeout(run_inline_js, 100);\n    } else if (!root._bokeh_failed_load) {\n      console.log(\"Bokeh: BokehJS failed to load within specified timeout.\");\n      root._bokeh_failed_load = true;\n    } else if (force !== true) {\n      var cell = $(document.getElementById(\"1001\")).parents('.cell').data().cell;\n      cell.output_area.append_execute_result(NB_LOAD_WARNING)\n    }\n\n  }\n\n  if (root._bokeh_is_loading === 0) {\n    console.debug(\"Bokeh: BokehJS loaded, going straight to plotting\");\n    run_inline_js();\n  } else {\n    load_libs(css_urls, js_urls, function() {\n      console.debug(\"Bokeh: BokehJS plotting callback run at\", now());\n      run_inline_js();\n    });\n  }\n}(window));"
     },
     "metadata": {},
     "output_type": "display_data"
    }
   ],
   "source": [
    "from bokeh.io import output_notebook, show\n",
    "output_notebook()"
   ]
  },
  {
   "cell_type": "code",
   "execution_count": 147,
   "metadata": {},
   "outputs": [],
   "source": [
    "from bokeh.layouts import column, row\n",
    "from bokeh.plotting import figure\n",
    "from bokeh.models import ColumnDataSource, Select, TextInput, Button, Paragraph\n",
    "import numpy as np\n",
    "import cv2"
   ]
  },
  {
   "cell_type": "code",
   "execution_count": 5,
   "metadata": {},
   "outputs": [],
   "source": [
    "def modify_doc(doc):\n",
    "    \n",
    "    # create some widgets\n",
    "    button = Button(label=\"Say HI\")\n",
    "    input = TextInput(value=\"Bokeh\")\n",
    "    output = Paragraph()\n",
    "\n",
    "    # add a callback to a widget\n",
    "    def update():\n",
    "        output.text = \"Hello, \" + input.value\n",
    "    button.on_click(update)\n",
    "\n",
    "    # create a layout for everything\n",
    "    layout = column(button, input, output)\n",
    "\n",
    "    # add the layout to curdoc\n",
    "    doc.add_root(layout)\n",
    "    \n",
    "# In the notebook, just pass the function that defines the app to show\n",
    "# You may need to supply notebook_url, e.g notebook_url=\"http://localhost:8889\" \n"
   ]
  },
  {
   "cell_type": "code",
   "execution_count": 6,
   "metadata": {},
   "outputs": [
    {
     "data": {
      "application/vnd.bokehjs_exec.v0+json": "",
      "text/html": [
       "\n",
       "<script id=\"1002\">\n",
       "  var xhr = new XMLHttpRequest()\n",
       "  xhr.responseType = 'blob';\n",
       "  xhr.open('GET', \"http://localhost:62608/autoload.js?bokeh-autoload-element=1002&bokeh-absolute-url=http://localhost:62608&resources=none\", true);\n",
       "  \n",
       "  xhr.onload = function (event) {\n",
       "    var script = document.createElement('script'),\n",
       "    src = URL.createObjectURL(event.target.response);\n",
       "    script.src = src;\n",
       "    document.body.appendChild(script);\n",
       "  };\n",
       "xhr.send();\n",
       "</script>"
      ]
     },
     "metadata": {
      "application/vnd.bokehjs_exec.v0+json": {
       "server_id": "8e7d284cff1c449bb3e166c5e1a03914"
      }
     },
     "output_type": "display_data"
    }
   ],
   "source": [
    "show(modify_doc) "
   ]
  },
  {
   "cell_type": "code",
   "execution_count": 7,
   "metadata": {},
   "outputs": [],
   "source": [
    "def get_data(N):\n",
    "    return dict(x=np.random.normal(size=N), y=np.random.normal(size=N), r=np.random.normal(size=N) * 0.03)\n",
    "\n",
    "COLORS = [\"black\", \"firebrick\", \"navy\", \"olive\", \"goldenrod\"]\n",
    "\n",
    "def modify_doc(doc):\n",
    "    source = ColumnDataSource(data=get_data(200))\n",
    "\n",
    "    p = figure(tools=\"\", toolbar_location=None)\n",
    "    r = p.circle(x='x', y='y', radius='r', source=source,\n",
    "                 color=\"navy\", alpha=0.6, line_color=\"white\")\n",
    "\n",
    "    \n",
    "    select = Select(title=\"Color\", value=\"navy\", options=COLORS)\n",
    "    input = TextInput(title=\"Number of points\", value=\"200\")\n",
    "\n",
    "    def update_color(attrname, old, new):\n",
    "        r.glyph.fill_color = select.value\n",
    "    select.on_change('value', update_color)\n",
    "\n",
    "    def update_points(attrname, old, new):\n",
    "        N = int(input.value)\n",
    "        source.data = get_data(N)\n",
    "    input.on_change('value', update_points)\n",
    "\n",
    "    layout = column(row(select, input, width=400), row(p))\n",
    "\n",
    "    doc.add_root(layout)"
   ]
  },
  {
   "cell_type": "code",
   "execution_count": 8,
   "metadata": {
    "scrolled": false
   },
   "outputs": [
    {
     "data": {
      "application/vnd.bokehjs_exec.v0+json": "",
      "text/html": [
       "\n",
       "<script id=\"1011\">\n",
       "  var xhr = new XMLHttpRequest()\n",
       "  xhr.responseType = 'blob';\n",
       "  xhr.open('GET', \"http://localhost:62654/autoload.js?bokeh-autoload-element=1011&bokeh-absolute-url=http://localhost:62654&resources=none\", true);\n",
       "  \n",
       "  xhr.onload = function (event) {\n",
       "    var script = document.createElement('script'),\n",
       "    src = URL.createObjectURL(event.target.response);\n",
       "    script.src = src;\n",
       "    document.body.appendChild(script);\n",
       "  };\n",
       "xhr.send();\n",
       "</script>"
      ]
     },
     "metadata": {
      "application/vnd.bokehjs_exec.v0+json": {
       "server_id": "52d4ed652263452abcce2c3ae54c33a5"
      }
     },
     "output_type": "display_data"
    }
   ],
   "source": [
    "show(modify_doc) "
   ]
  },
  {
   "cell_type": "code",
   "execution_count": 4,
   "metadata": {},
   "outputs": [],
   "source": [
    "from bokeh.models import ColumnDataSource\n",
    "import math"
   ]
  },
  {
   "cell_type": "code",
   "execution_count": 9,
   "metadata": {},
   "outputs": [],
   "source": [
    "\n",
    "def modify_doc2(doc):\n",
    "    p = figure(match_aspect=True)\n",
    "    p.circle(x=0, y=0, radius=1, fill_color=None, line_width=2)\n",
    "    \n",
    "    # this is just to help the auto-datarange\n",
    "    p.rect(0, 0, 2, 2, alpha=0)\n",
    "\n",
    "    # this is the data source we will stream to\n",
    "    source = ColumnDataSource(data=dict(x=[1], y=[0]))\n",
    "    p.circle(x='x', y='y', size=12, fill_color='white', source=source)\n",
    "\n",
    "    def update():\n",
    "        x, y = source.data['x'][-1], source.data['y'][-1]\n",
    "\n",
    "        # construct the new values for all columns, and pass to stream\n",
    "        new_data = dict(x=[x*math.cos(0.1) - y*math.sin(0.1)], y=[x*math.sin(0.1) + y*math.cos(0.1)])\n",
    "        source.stream(new_data, rollover=8)\n",
    "\n",
    "    doc.add_periodic_callback(update, 150)\n",
    "    doc.add_root(p)\n",
    "    "
   ]
  },
  {
   "cell_type": "code",
   "execution_count": 10,
   "metadata": {
    "scrolled": false
   },
   "outputs": [
    {
     "data": {
      "application/vnd.bokehjs_exec.v0+json": "",
      "text/html": [
       "\n",
       "<script id=\"1003\">\n",
       "  var xhr = new XMLHttpRequest()\n",
       "  xhr.responseType = 'blob';\n",
       "  xhr.open('GET', \"http://localhost:58705/autoload.js?bokeh-autoload-element=1003&bokeh-absolute-url=http://localhost:58705&resources=none\", true);\n",
       "  \n",
       "  xhr.onload = function (event) {\n",
       "    var script = document.createElement('script'),\n",
       "    src = URL.createObjectURL(event.target.response);\n",
       "    script.src = src;\n",
       "    document.body.appendChild(script);\n",
       "  };\n",
       "xhr.send();\n",
       "</script>"
      ]
     },
     "metadata": {
      "application/vnd.bokehjs_exec.v0+json": {
       "server_id": "f388206beaed451f89b9757a72ee9ce5"
      }
     },
     "output_type": "display_data"
    }
   ],
   "source": [
    "show(modify_doc2)"
   ]
  },
  {
   "cell_type": "code",
   "execution_count": 5,
   "metadata": {},
   "outputs": [
    {
     "data": {
      "text/plain": [
       "-0.9352099151945389"
      ]
     },
     "execution_count": 5,
     "metadata": {},
     "output_type": "execute_result"
    }
   ],
   "source": []
  },
  {
   "cell_type": "code",
   "execution_count": 184,
   "metadata": {},
   "outputs": [],
   "source": [
    "\n",
    "def modify_doc(doc):\n",
    "\n",
    "    frameNumber=50\n",
    "    videoFile=\"./videos/mov3out.mp4\"\n",
    "    \n",
    "    capture = cv2.VideoCapture(videoFile, cv2.CAP_FFMPEG)\n",
    "    if (capture.isOpened() == False): \n",
    "        print(\"Unable to open video file\")\n",
    "    capture.set(cv2.CAP_PROP_POS_FRAMES, frameNumber)\n",
    "    ret, frame = capture.read()\n",
    "    if not ret:\n",
    "        print(\"Can't receive frame (video end?). Exiting ...\")\n",
    "        frame=cv2.imread(\"./output_net.png\")#error image\n",
    "    capture.release()\n",
    "\n",
    "    frameRGBA = cv2.cvtColor(frame, cv2.COLOR_BGR2RGBA)\n",
    "    frameRGBA = cv2.flip(frameRGBA, 0)\n",
    "    h, w, c = frameRGBA.shape\n",
    "    xmin, ymin, xmax, ymax = centeredViewCoords(h, w)\n",
    "\n",
    "    p = figure(x_range=(xmin, xmax), y_range=(ymin, ymax), tooltips=[(\"x\", \"$x\"), (\"y\", \"$y\"), (\"value\", \"@image\")])\n",
    "    p.image_rgba(image=[frameRGBA], x=0, y=0, dw=w, dh=h)    \n",
    "    layout = column(p)\n",
    "\n",
    "    doc.add_root(layout)\n",
    "    "
   ]
  },
  {
   "cell_type": "code",
   "execution_count": 187,
   "metadata": {},
   "outputs": [
    {
     "data": {
      "application/vnd.bokehjs_exec.v0+json": "",
      "text/html": [
       "\n",
       "<script id=\"15161\">\n",
       "  var xhr = new XMLHttpRequest()\n",
       "  xhr.responseType = 'blob';\n",
       "  xhr.open('GET', \"http://localhost:64957/autoload.js?bokeh-autoload-element=15161&bokeh-absolute-url=http://localhost:64957&resources=none\", true);\n",
       "  \n",
       "  xhr.onload = function (event) {\n",
       "    var script = document.createElement('script'),\n",
       "    src = URL.createObjectURL(event.target.response);\n",
       "    script.src = src;\n",
       "    document.body.appendChild(script);\n",
       "  };\n",
       "xhr.send();\n",
       "</script>"
      ]
     },
     "metadata": {
      "application/vnd.bokehjs_exec.v0+json": {
       "server_id": "f9c125d3dc764f35a940aed3de5382d8"
      }
     },
     "output_type": "display_data"
    }
   ],
   "source": [
    "show(modify_doc)"
   ]
  },
  {
   "cell_type": "code",
   "execution_count": 13,
   "metadata": {},
   "outputs": [
    {
     "data": {
      "text/plain": [
       "1200"
      ]
     },
     "execution_count": 13,
     "metadata": {},
     "output_type": "execute_result"
    }
   ],
   "source": []
  },
  {
   "cell_type": "code",
   "execution_count": 35,
   "metadata": {},
   "outputs": [],
   "source": [
    "import math\n",
    "import numpy as np\n",
    "import pandas as pd\n",
    "\n",
    "from bokeh.io import output_file, show\n",
    "from bokeh.models import GraphRenderer, Oval, StaticLayoutProvider\n",
    "from bokeh.palettes import Spectral8\n",
    "from bokeh.plotting import figure\n",
    "\n",
    "#from bokeh.io import output_notebook, show\n",
    "#output_notebook()"
   ]
  },
  {
   "cell_type": "code",
   "execution_count": 140,
   "metadata": {},
   "outputs": [],
   "source": [
    "def centeredViewCoords(h, w):\n",
    "    if h>w:\n",
    "        xmin, ymin, xmax, ymax = 0, int((h-w)/2), w, w+int((h-w)/2)\n",
    "    else:\n",
    "        xmin, ymin, xmax, ymax = int((w-h)/2), 0, h+int((w-h)/2), h\n",
    "    return xmin, ymin, xmax, ymax"
   ]
  },
  {
   "cell_type": "code",
   "execution_count": 143,
   "metadata": {},
   "outputs": [],
   "source": [
    "h=720\n",
    "w=1280\n",
    "\n",
    "xmin, ymin, xmax, ymax = centeredViewCoords(h,w)\n",
    "plot = figure(x_range=(xmin, xmax), y_range=(ymax, ymin),\n",
    "              tools='', toolbar_location=None)\n",
    "graph = GraphRenderer()\n",
    "mySkeleton, conns=genBokeh_Skeleton()\n",
    "graph.node_renderer.data_source.add(mySkeleton.index, 'index')\n",
    "graph.node_renderer.data_source.add(mySkeleton['color'], 'color')\n",
    "graph.node_renderer.glyph = Oval(height=12, width=12, fill_color='color')\n",
    "\n",
    "graph.edge_renderer.data_source.data = conns\n",
    "graph_layout = dict(zip(mySkeleton.index,  mySkeleton[\"coord2d\"]))\n",
    "graph.layout_provider = StaticLayoutProvider(graph_layout=graph_layout)\n",
    "plot.renderers.append(graph)"
   ]
  },
  {
   "cell_type": "code",
   "execution_count": 186,
   "metadata": {},
   "outputs": [
    {
     "data": {
      "text/html": [
       "\n",
       "\n",
       "\n",
       "\n",
       "\n",
       "\n",
       "  <div class=\"bk-root\" id=\"d1c519f8-4d3d-43b0-a671-d4f1b2d0c300\" data-root-id=\"10337\"></div>\n"
      ]
     },
     "metadata": {},
     "output_type": "display_data"
    },
    {
     "data": {
      "application/javascript": [
       "(function(root) {\n",
       "  function embed_document(root) {\n",
       "    \n",
       "  var docs_json = {\"f4ba9905-a726-4061-8004-3c83af806c88\":{\"roots\":{\"references\":[{\"attributes\":{\"below\":[{\"id\":\"10346\"}],\"center\":[{\"id\":\"10349\"},{\"id\":\"10353\"}],\"left\":[{\"id\":\"10350\"}],\"renderers\":[{\"id\":\"10355\"}],\"title\":{\"id\":\"10815\"},\"toolbar\":{\"id\":\"10354\"},\"toolbar_location\":null,\"x_range\":{\"id\":\"10338\"},\"x_scale\":{\"id\":\"10342\"},\"y_range\":{\"id\":\"10340\"},\"y_scale\":{\"id\":\"10344\"}},\"id\":\"10337\",\"subtype\":\"Figure\",\"type\":\"Plot\"},{\"attributes\":{},\"id\":\"10344\",\"type\":\"LinearScale\"},{\"attributes\":{},\"id\":\"10342\",\"type\":\"LinearScale\"},{\"attributes\":{},\"id\":\"10831\",\"type\":\"UnionRenderers\"},{\"attributes\":{\"formatter\":{\"id\":\"10827\"},\"ticker\":{\"id\":\"10351\"}},\"id\":\"10350\",\"type\":\"LinearAxis\"},{\"attributes\":{\"fill_color\":{\"field\":\"color\"},\"height\":{\"units\":\"data\",\"value\":12},\"width\":{\"units\":\"data\",\"value\":12}},\"id\":\"10364\",\"type\":\"Oval\"},{\"attributes\":{\"data_source\":{\"id\":\"10357\"},\"glyph\":{\"id\":\"10364\"},\"hover_glyph\":null,\"muted_glyph\":null,\"view\":{\"id\":\"10359\"}},\"id\":\"10358\",\"type\":\"GlyphRenderer\"},{\"attributes\":{\"active_drag\":\"auto\",\"active_inspect\":\"auto\",\"active_multi\":null,\"active_scroll\":\"auto\",\"active_tap\":\"auto\"},\"id\":\"10354\",\"type\":\"Toolbar\"},{\"attributes\":{\"data\":{\"end\":[1,3,4,6,7,9,10,12,13,15,1,1,2,2,5,8],\"start\":[0,2,3,5,6,8,9,11,12,14,14,15,5,19,19,11]},\"selected\":{\"id\":\"10834\"},\"selection_policy\":{\"id\":\"10833\"}},\"id\":\"10370\",\"type\":\"ColumnDataSource\"},{\"attributes\":{\"axis\":{\"id\":\"10346\"},\"ticker\":null},\"id\":\"10349\",\"type\":\"Grid\"},{\"attributes\":{},\"id\":\"10829\",\"type\":\"BasicTickFormatter\"},{\"attributes\":{\"data\":{\"color\":[\"#7570b3\",\"#7570b3\",\"#d95f02\",\"#d95f02\",\"#d95f02\",\"#1b9e77\",\"#1b9e77\",\"#1b9e77\",\"#66a61e\",\"#66a61e\",\"#66a61e\",\"#e7298a\",\"#e7298a\",\"#e7298a\",\"#d95f02\",\"#1b9e77\",\"#d95f02\",\"#1b9e77\",\"#7570b3\"],\"index\":[0,1,2,3,4,5,6,7,8,9,10,11,12,13,14,15,16,17,19]},\"selected\":{\"id\":\"10832\"},\"selection_policy\":{\"id\":\"10831\"}},\"id\":\"10357\",\"type\":\"ColumnDataSource\"},{\"attributes\":{\"axis\":{\"id\":\"10350\"},\"dimension\":1,\"ticker\":null},\"id\":\"10353\",\"type\":\"Grid\"},{\"attributes\":{},\"id\":\"10821\",\"type\":\"NodesOnly\"},{\"attributes\":{\"edge_renderer\":{\"id\":\"10371\"},\"inspection_policy\":{\"id\":\"10826\"},\"layout_provider\":{\"id\":\"10373\"},\"node_renderer\":{\"id\":\"10358\"},\"selection_policy\":{\"id\":\"10821\"}},\"id\":\"10355\",\"type\":\"GraphRenderer\"},{\"attributes\":{},\"id\":\"10832\",\"type\":\"Selection\"},{\"attributes\":{},\"id\":\"10347\",\"type\":\"BasicTicker\"},{\"attributes\":{\"graph_layout\":{\"0\":[639,123],\"1\":[617,191],\"10\":[595,573],\"11\":[662,348],\"12\":[640,461],\"13\":[640,573],\"14\":[617,123],\"15\":[639,123],\"16\":[595,124],\"17\":[640,145],\"19\":[628,348],\"2\":[572,191],\"3\":[527,236],\"4\":[527,191],\"5\":[662,191],\"6\":[729,258],\"7\":[729,191],\"8\":[595,348],\"9\":[595,461]}},\"id\":\"10373\",\"type\":\"StaticLayoutProvider\"},{\"attributes\":{\"source\":{\"id\":\"10357\"}},\"id\":\"10359\",\"type\":\"CDSView\"},{\"attributes\":{\"data_source\":{\"id\":\"10370\"},\"glyph\":{\"id\":\"10369\"},\"hover_glyph\":null,\"muted_glyph\":null,\"view\":{\"id\":\"10372\"}},\"id\":\"10371\",\"type\":\"GlyphRenderer\"},{\"attributes\":{\"end\":0,\"start\":720},\"id\":\"10340\",\"type\":\"Range1d\"},{\"attributes\":{\"source\":{\"id\":\"10370\"}},\"id\":\"10372\",\"type\":\"CDSView\"},{\"attributes\":{},\"id\":\"10834\",\"type\":\"Selection\"},{\"attributes\":{},\"id\":\"10351\",\"type\":\"BasicTicker\"},{\"attributes\":{},\"id\":\"10369\",\"type\":\"MultiLine\"},{\"attributes\":{},\"id\":\"10827\",\"type\":\"BasicTickFormatter\"},{\"attributes\":{},\"id\":\"10833\",\"type\":\"UnionRenderers\"},{\"attributes\":{\"formatter\":{\"id\":\"10829\"},\"ticker\":{\"id\":\"10347\"}},\"id\":\"10346\",\"type\":\"LinearAxis\"},{\"attributes\":{\"text\":\"\"},\"id\":\"10815\",\"type\":\"Title\"},{\"attributes\":{},\"id\":\"10826\",\"type\":\"NodesOnly\"},{\"attributes\":{\"end\":1000,\"start\":280},\"id\":\"10338\",\"type\":\"Range1d\"}],\"root_ids\":[\"10337\"]},\"title\":\"Bokeh Application\",\"version\":\"2.0.2\"}};\n",
       "  var render_items = [{\"docid\":\"f4ba9905-a726-4061-8004-3c83af806c88\",\"root_ids\":[\"10337\"],\"roots\":{\"10337\":\"d1c519f8-4d3d-43b0-a671-d4f1b2d0c300\"}}];\n",
       "  root.Bokeh.embed.embed_items_notebook(docs_json, render_items);\n",
       "\n",
       "  }\n",
       "  if (root.Bokeh !== undefined) {\n",
       "    embed_document(root);\n",
       "  } else {\n",
       "    var attempts = 0;\n",
       "    var timer = setInterval(function(root) {\n",
       "      if (root.Bokeh !== undefined) {\n",
       "        clearInterval(timer);\n",
       "        embed_document(root);\n",
       "      } else {\n",
       "        attempts++;\n",
       "        if (attempts > 100) {\n",
       "          clearInterval(timer);\n",
       "          console.log(\"Bokeh: ERROR: Unable to run BokehJS code because BokehJS library is missing\");\n",
       "        }\n",
       "      }\n",
       "    }, 10, root)\n",
       "  }\n",
       "})(window);"
      ],
      "application/vnd.bokehjs_exec.v0+json": ""
     },
     "metadata": {
      "application/vnd.bokehjs_exec.v0+json": {
       "id": "10337"
      }
     },
     "output_type": "display_data"
    }
   ],
   "source": [
    "show(plot)"
   ]
  },
  {
   "cell_type": "code",
   "execution_count": 106,
   "metadata": {},
   "outputs": [
    {
     "data": {
      "text/plain": [
       "{0: (639, 123),\n",
       " 1: (617, 191),\n",
       " 2: (572, 191),\n",
       " 3: (527, 236),\n",
       " 4: (527, 191),\n",
       " 5: (662, 191),\n",
       " 6: (729, 258),\n",
       " 7: (729, 191),\n",
       " 8: (595, 348),\n",
       " 9: (595, 461),\n",
       " 10: (595, 573),\n",
       " 11: (662, 348),\n",
       " 12: (640, 461),\n",
       " 13: (640, 573),\n",
       " 14: (617, 123),\n",
       " 15: (639, 123),\n",
       " 16: (595, 124),\n",
       " 17: (640, 145),\n",
       " 19: (628, 348)}"
      ]
     },
     "execution_count": 106,
     "metadata": {},
     "output_type": "execute_result"
    }
   ],
   "source": [
    "def cleanStrCoords(coords):\n",
    "    if isinstance(coords, str):\n",
    "        res=coords[1:-1].split(\",\")\n",
    "        coords=(int(res[0]) , int(res[1]))\n",
    "    return coords\n",
    "\n",
    "mySkeleton, conns=genBokeh_Skeleton()\n",
    "node_indices\n",
    "dict(zip(mySkeleton.index,  mySkeleton[\"coord2d\"]))"
   ]
  },
  {
   "cell_type": "code",
   "execution_count": 11,
   "metadata": {},
   "outputs": [
    {
     "data": {
      "text/plain": [
       "{'start': [0, 0, 0, 0, 0, 0, 0, 0], 'end': [0, 1, 2, 3, 4, 5, 6, 7]}"
      ]
     },
     "execution_count": 11,
     "metadata": {},
     "output_type": "execute_result"
    }
   ],
   "source": [
    "graph.edge_renderer.data_source.data"
   ]
  },
  {
   "cell_type": "code",
   "execution_count": 18,
   "metadata": {},
   "outputs": [
    {
     "data": {
      "text/plain": [
       "{0: (1.0, 0.0),\n",
       " 1: (0.7071067811865476, 0.7071067811865475),\n",
       " 2: (6.123233995736766e-17, 1.0),\n",
       " 3: (-0.7071067811865475, 0.7071067811865476),\n",
       " 4: (-1.0, 1.2246467991473532e-16),\n",
       " 5: (-0.7071067811865477, -0.7071067811865475),\n",
       " 6: (-1.8369701987210297e-16, -1.0),\n",
       " 7: (0.7071067811865475, -0.7071067811865477)}"
      ]
     },
     "execution_count": 18,
     "metadata": {},
     "output_type": "execute_result"
    }
   ],
   "source": [
    "graph_layout"
   ]
  },
  {
   "cell_type": "code",
   "execution_count": 102,
   "metadata": {},
   "outputs": [],
   "source": [
    "def genBokeh_Skeleton():\n",
    "    mySkeleton=pd.read_csv(\"mySkel.csv\",sep=\";\",index_col=0)  \n",
    "    mySkeleton[\"coord2d\"]=mySkeleton[\"coord2d\"].apply(cleanStrCoords)\n",
    "    # graphbuilder- connections\n",
    "    jSrc=[]\n",
    "    jDst=[]\n",
    "    jSrc.append(0)\n",
    "    jDst.append(1)#head-neck\n",
    "    jSrc.append(2)\n",
    "    jDst.append(3)#right_shoulder - right_elbow\n",
    "    jSrc.append(3)\n",
    "    jDst.append(4)#right_elbow - right_wrist\n",
    "    jSrc.append(5)\n",
    "    jDst.append(6)#left_shoulder - left_elbow\n",
    "    jSrc.append(6)\n",
    "    jDst.append(7)#left_elbow - left_wrist\n",
    "    jSrc.append(8)\n",
    "    jDst.append(9)#right_hip - right_knee\n",
    "    jSrc.append(9)\n",
    "    jDst.append(10)#right_knee - right_foot\n",
    "    jSrc.append(11)\n",
    "    jDst.append(12)#left_hip - left_knee\n",
    "    jSrc.append(12)\n",
    "    jDst.append(13)#left_knee - left_foot\n",
    "    jSrc.append(14)\n",
    "    jDst.append(15)#right_eye - left_eye\n",
    "    jSrc.append(14)\n",
    "    jDst.append(1)#right_eye - head\n",
    "    jSrc.append(15)\n",
    "    jDst.append(1)#left_eye - head\n",
    "    jSrc.append(5)\n",
    "    jDst.append(2)#left_shoulder - right_shoulder\n",
    "    jDst.append(2)\n",
    "    jSrc.append(19)#right_shoulder - pelvis\n",
    "    jDst.append(5)\n",
    "    jSrc.append(19)#left_shoulder - pelvis\n",
    "    jDst.append(8)\n",
    "    jSrc.append(11)#right_hip - left_hip\n",
    "    conns={'start':jSrc, 'end':jDst}\n",
    "    return mySkeleton, conns"
   ]
  },
  {
   "cell_type": "code",
   "execution_count": 103,
   "metadata": {},
   "outputs": [
    {
     "data": {
      "text/html": [
       "<div>\n",
       "<style scoped>\n",
       "    .dataframe tbody tr th:only-of-type {\n",
       "        vertical-align: middle;\n",
       "    }\n",
       "\n",
       "    .dataframe tbody tr th {\n",
       "        vertical-align: top;\n",
       "    }\n",
       "\n",
       "    .dataframe thead th {\n",
       "        text-align: right;\n",
       "    }\n",
       "</style>\n",
       "<table border=\"1\" class=\"dataframe\">\n",
       "  <thead>\n",
       "    <tr style=\"text-align: right;\">\n",
       "      <th></th>\n",
       "      <th>coord2d</th>\n",
       "      <th>color</th>\n",
       "      <th>name</th>\n",
       "    </tr>\n",
       "  </thead>\n",
       "  <tbody>\n",
       "    <tr>\n",
       "      <th>0</th>\n",
       "      <td>(639, 123)</td>\n",
       "      <td>#7570b3</td>\n",
       "      <td>head</td>\n",
       "    </tr>\n",
       "    <tr>\n",
       "      <th>1</th>\n",
       "      <td>(617, 191)</td>\n",
       "      <td>#7570b3</td>\n",
       "      <td>neck</td>\n",
       "    </tr>\n",
       "    <tr>\n",
       "      <th>2</th>\n",
       "      <td>(572, 191)</td>\n",
       "      <td>#d95f02</td>\n",
       "      <td>right_shoulder</td>\n",
       "    </tr>\n",
       "    <tr>\n",
       "      <th>3</th>\n",
       "      <td>(527, 236)</td>\n",
       "      <td>#d95f02</td>\n",
       "      <td>right_elbow</td>\n",
       "    </tr>\n",
       "    <tr>\n",
       "      <th>4</th>\n",
       "      <td>(527, 191)</td>\n",
       "      <td>#d95f02</td>\n",
       "      <td>right_wrist</td>\n",
       "    </tr>\n",
       "    <tr>\n",
       "      <th>5</th>\n",
       "      <td>(662, 191)</td>\n",
       "      <td>#1b9e77</td>\n",
       "      <td>left_shoulder</td>\n",
       "    </tr>\n",
       "    <tr>\n",
       "      <th>6</th>\n",
       "      <td>(729, 258)</td>\n",
       "      <td>#1b9e77</td>\n",
       "      <td>left_elbow</td>\n",
       "    </tr>\n",
       "    <tr>\n",
       "      <th>7</th>\n",
       "      <td>(729, 191)</td>\n",
       "      <td>#1b9e77</td>\n",
       "      <td>left_wrist</td>\n",
       "    </tr>\n",
       "    <tr>\n",
       "      <th>8</th>\n",
       "      <td>(595, 348)</td>\n",
       "      <td>#66a61e</td>\n",
       "      <td>right_hip</td>\n",
       "    </tr>\n",
       "    <tr>\n",
       "      <th>9</th>\n",
       "      <td>(595, 461)</td>\n",
       "      <td>#66a61e</td>\n",
       "      <td>right_knee</td>\n",
       "    </tr>\n",
       "    <tr>\n",
       "      <th>10</th>\n",
       "      <td>(595, 573)</td>\n",
       "      <td>#66a61e</td>\n",
       "      <td>right_foot</td>\n",
       "    </tr>\n",
       "    <tr>\n",
       "      <th>11</th>\n",
       "      <td>(662, 348)</td>\n",
       "      <td>#e7298a</td>\n",
       "      <td>left_hip</td>\n",
       "    </tr>\n",
       "    <tr>\n",
       "      <th>12</th>\n",
       "      <td>(640, 461)</td>\n",
       "      <td>#e7298a</td>\n",
       "      <td>left_knee</td>\n",
       "    </tr>\n",
       "    <tr>\n",
       "      <th>13</th>\n",
       "      <td>(640, 573)</td>\n",
       "      <td>#e7298a</td>\n",
       "      <td>left_foot</td>\n",
       "    </tr>\n",
       "    <tr>\n",
       "      <th>14</th>\n",
       "      <td>(617, 123)</td>\n",
       "      <td>#d95f02</td>\n",
       "      <td>right_eye</td>\n",
       "    </tr>\n",
       "    <tr>\n",
       "      <th>15</th>\n",
       "      <td>(639, 123)</td>\n",
       "      <td>#1b9e77</td>\n",
       "      <td>left_eye</td>\n",
       "    </tr>\n",
       "    <tr>\n",
       "      <th>16</th>\n",
       "      <td>(595, 124)</td>\n",
       "      <td>#d95f02</td>\n",
       "      <td>right_ear</td>\n",
       "    </tr>\n",
       "    <tr>\n",
       "      <th>17</th>\n",
       "      <td>(640, 145)</td>\n",
       "      <td>#1b9e77</td>\n",
       "      <td>left_ear</td>\n",
       "    </tr>\n",
       "    <tr>\n",
       "      <th>19</th>\n",
       "      <td>(628, 348)</td>\n",
       "      <td>#7570b3</td>\n",
       "      <td>pelvis</td>\n",
       "    </tr>\n",
       "  </tbody>\n",
       "</table>\n",
       "</div>"
      ],
      "text/plain": [
       "       coord2d    color            name\n",
       "0   (639, 123)  #7570b3            head\n",
       "1   (617, 191)  #7570b3            neck\n",
       "2   (572, 191)  #d95f02  right_shoulder\n",
       "3   (527, 236)  #d95f02     right_elbow\n",
       "4   (527, 191)  #d95f02     right_wrist\n",
       "5   (662, 191)  #1b9e77   left_shoulder\n",
       "6   (729, 258)  #1b9e77      left_elbow\n",
       "7   (729, 191)  #1b9e77      left_wrist\n",
       "8   (595, 348)  #66a61e       right_hip\n",
       "9   (595, 461)  #66a61e      right_knee\n",
       "10  (595, 573)  #66a61e      right_foot\n",
       "11  (662, 348)  #e7298a        left_hip\n",
       "12  (640, 461)  #e7298a       left_knee\n",
       "13  (640, 573)  #e7298a       left_foot\n",
       "14  (617, 123)  #d95f02       right_eye\n",
       "15  (639, 123)  #1b9e77        left_eye\n",
       "16  (595, 124)  #d95f02       right_ear\n",
       "17  (640, 145)  #1b9e77        left_ear\n",
       "19  (628, 348)  #7570b3          pelvis"
      ]
     },
     "execution_count": 103,
     "metadata": {},
     "output_type": "execute_result"
    }
   ],
   "source": [
    "\n",
    "mySkeleton, conns = genBokeh_Skeleton()\n",
    "mySkeleton"
   ]
  },
  {
   "cell_type": "code",
   "execution_count": 104,
   "metadata": {},
   "outputs": [
    {
     "name": "stdout",
     "output_type": "stream",
     "text": [
      "(639, 123)\n",
      "639\n"
     ]
    }
   ],
   "source": [
    "\n",
    "def cleanStrCoords(coords):\n",
    "    if isinstance(coords, str):\n",
    "        res=coords[1:-1].split(\",\")\n",
    "        coords=(int(res[0]) , int(res[1]))\n",
    "    return coords\n",
    "\n",
    "b=mySkeleton.iloc[0][\"coord2d\"]\n",
    "print(cleanStrCoords(b))\n",
    "print(b[0])"
   ]
  },
  {
   "cell_type": "code",
   "execution_count": 127,
   "metadata": {},
   "outputs": [
    {
     "name": "stdout",
     "output_type": "stream",
     "text": [
      "(280, 0) (1000, 720)\n",
      "280 0 1000 720\n"
     ]
    }
   ],
   "source": [
    "h=720\n",
    "w=1280\n",
    "\n",
    "wMin=min(h,w)\n",
    "wMax=max(h,w)\n",
    "\n",
    "if h>w:\n",
    "    xmin, ymin, xmax, ymax = 0, int((h-w)/2), w, w+int((h-w)/2)\n",
    "    xrange, yrange=(0,int((h-w)/2)),(w,w+int((h-w)/2))\n",
    "else:\n",
    "    xmin, ymin, xmax, ymax = int((w-h)/2), 0, h+int((w-h)/2), h\n",
    "    xrange, yrange=(int((w-h)/2),0), ((h+int((w-h)/2)),h)\n",
    "print(xrange, yrange)\n",
    "print(xmin,ymin,xmax,ymax)"
   ]
  },
  {
   "cell_type": "code",
   "execution_count": null,
   "metadata": {},
   "outputs": [],
   "source": []
  }
 ],
 "metadata": {
  "kernelspec": {
   "display_name": "Python 3",
   "language": "python",
   "name": "python3"
  },
  "language_info": {
   "codemirror_mode": {
    "name": "ipython",
    "version": 3
   },
   "file_extension": ".py",
   "mimetype": "text/x-python",
   "name": "python",
   "nbconvert_exporter": "python",
   "pygments_lexer": "ipython3",
   "version": "3.7.7"
  }
 },
 "nbformat": 4,
 "nbformat_minor": 4
}
